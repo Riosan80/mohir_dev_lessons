{
 "cells": [
  {
   "cell_type": "code",
   "execution_count": 2,
   "id": "29940c31",
   "metadata": {},
   "outputs": [],
   "source": [
    "import numpy as np"
   ]
  },
  {
   "cell_type": "code",
   "execution_count": 3,
   "id": "6774accf",
   "metadata": {},
   "outputs": [],
   "source": [
    "my_list = list(range(100_000))\n",
    "my_array = np.array(range(100_000))"
   ]
  },
  {
   "cell_type": "code",
   "execution_count": 24,
   "id": "fc7e5e1f",
   "metadata": {},
   "outputs": [
    {
     "name": "stdout",
     "output_type": "stream",
     "text": [
      "Wall time: 103 ms\n"
     ]
    }
   ],
   "source": [
    "%time for _ in range(10): [x*2 for x in my_list]  # Normal"
   ]
  },
  {
   "cell_type": "code",
   "execution_count": 25,
   "id": "4c387705",
   "metadata": {},
   "outputs": [
    {
     "name": "stdout",
     "output_type": "stream",
     "text": [
      "Wall time: 1.99 ms\n"
     ]
    }
   ],
   "source": [
    "%time for _ in range(10): my_array*2"
   ]
  },
  {
   "cell_type": "markdown",
   "id": "0bf98cdd",
   "metadata": {},
   "source": [
    "# Greating Array"
   ]
  },
  {
   "cell_type": "code",
   "execution_count": 27,
   "id": "5c28d1b8",
   "metadata": {},
   "outputs": [
    {
     "data": {
      "text/plain": [
       "array([5. , 6. , 4.5, 8. ])"
      ]
     },
     "execution_count": 27,
     "metadata": {},
     "output_type": "execute_result"
    }
   ],
   "source": [
    "listlar = [5,6,4.5,8]\n",
    "arr1 = np.array(listlar)\n",
    "arr1"
   ]
  },
  {
   "cell_type": "code",
   "execution_count": 30,
   "id": "48264b28",
   "metadata": {},
   "outputs": [
    {
     "data": {
      "text/plain": [
       "1"
      ]
     },
     "execution_count": 30,
     "metadata": {},
     "output_type": "execute_result"
    }
   ],
   "source": [
    "arr1.ndim"
   ]
  },
  {
   "cell_type": "code",
   "execution_count": 41,
   "id": "17bfa523",
   "metadata": {},
   "outputs": [],
   "source": [
    "data4 = [[1,5,7,5], [1,2,2,9]]\n",
    "arr2 = np.array(data4)"
   ]
  },
  {
   "cell_type": "code",
   "execution_count": 42,
   "id": "1a1c5749",
   "metadata": {},
   "outputs": [
    {
     "data": {
      "text/plain": [
       "2"
      ]
     },
     "execution_count": 42,
     "metadata": {},
     "output_type": "execute_result"
    }
   ],
   "source": [
    "arr2.ndim"
   ]
  },
  {
   "cell_type": "code",
   "execution_count": 43,
   "id": "6d58f3c7",
   "metadata": {},
   "outputs": [
    {
     "data": {
      "text/plain": [
       "array([[1, 5, 7, 5],\n",
       "       [1, 2, 2, 9]])"
      ]
     },
     "execution_count": 43,
     "metadata": {},
     "output_type": "execute_result"
    }
   ],
   "source": [
    "arr2"
   ]
  },
  {
   "cell_type": "code",
   "execution_count": 44,
   "id": "a65f6d5c",
   "metadata": {},
   "outputs": [
    {
     "name": "stdout",
     "output_type": "stream",
     "text": [
      "Massiv o'lcchami (2, 4) va elementlar soni 8 ta\n"
     ]
    }
   ],
   "source": [
    "print (f\"Massiv o'lcchami {arr2.shape} va elementlar soni {arr2.size} ta\")"
   ]
  },
  {
   "cell_type": "code",
   "execution_count": 50,
   "id": "d0b8fc63",
   "metadata": {},
   "outputs": [
    {
     "data": {
      "text/plain": [
       "array([[0., 0., 0., 0., 0.],\n",
       "       [0., 0., 0., 0., 0.],\n",
       "       [0., 0., 0., 0., 0.],\n",
       "       [0., 0., 0., 0., 0.],\n",
       "       [0., 0., 0., 0., 0.]])"
      ]
     },
     "execution_count": 50,
     "metadata": {},
     "output_type": "execute_result"
    }
   ],
   "source": [
    "arr4 = np.zeros(shape = (5,5))\n",
    "\n",
    "arr4"
   ]
  },
  {
   "cell_type": "code",
   "execution_count": 53,
   "id": "8fb3704b",
   "metadata": {},
   "outputs": [
    {
     "data": {
      "text/plain": [
       "array([[1., 1., 1., 1., 1.],\n",
       "       [1., 1., 1., 1., 1.],\n",
       "       [1., 1., 1., 1., 1.],\n",
       "       [1., 1., 1., 1., 1.],\n",
       "       [1., 1., 1., 1., 1.]])"
      ]
     },
     "execution_count": 53,
     "metadata": {},
     "output_type": "execute_result"
    }
   ],
   "source": [
    "arr5 = np.ones((5,5))\n",
    "\n",
    "arr5"
   ]
  },
  {
   "cell_type": "code",
   "execution_count": 55,
   "id": "ab41dfc4",
   "metadata": {},
   "outputs": [
    {
     "data": {
      "text/plain": [
       "array([ 2,  7, 12, 17, 22, 27, 32, 37, 42, 47])"
      ]
     },
     "execution_count": 55,
     "metadata": {},
     "output_type": "execute_result"
    }
   ],
   "source": [
    "arr6 = np.arange(2,50,5)\n",
    "arr6"
   ]
  },
  {
   "cell_type": "code",
   "execution_count": 58,
   "id": "1c17094d",
   "metadata": {},
   "outputs": [],
   "source": [
    "def one_dim(n):\n",
    "    \"\"\" n ta elementdan tashkil topgan 1-o'lchamli massiv \"\"\"\n",
    "    if n > 0 and isinstance(n, int):  # n musbat butun sonligini tekshirish\n",
    "        return np.random.rand(n)  # Tasodifiy sonlardan iborat massiv\n",
    "    else:\n",
    "        raise ValueError(\"n musbat butun son bo'lishi kerak\")"
   ]
  },
  {
   "cell_type": "code",
   "execution_count": 59,
   "id": "83b93631",
   "metadata": {},
   "outputs": [],
   "source": [
    "def two_dim(r, c):\n",
    "    \"\"\"r ta qator, c ta ustundan tashkil topgan 2-o'lchamli massiv\"\"\"\n",
    "    if r > 0 and c > 0 and isinstance(r, int) and isinstance(c, int):  # r va c musbat butun sonligini tekshirish\n",
    "        return np.random.rand(r, c)  # Tasodifiy sonlardan iborat 2-o'lchamli massiv\n",
    "    else:\n",
    "        raise ValueError(\"r va c musbat butun sonlar bo'lishi kerak\")\n"
   ]
  },
  {
   "cell_type": "code",
   "execution_count": 61,
   "id": "91b74df9",
   "metadata": {},
   "outputs": [
    {
     "name": "stdout",
     "output_type": "stream",
     "text": [
      "[[0.3037038  0.33274112 0.98543247 0.12163021 0.0309442 ]\n",
      " [0.29651887 0.2082797  0.40706557 0.23065697 0.3786746 ]\n",
      " [0.24648311 0.18379004 0.62303911 0.15535051 0.98897956]\n",
      " [0.08760721 0.22286532 0.95844238 0.9378052  0.62963519]\n",
      " [0.50577901 0.32215604 0.1268491  0.05825904 0.8766101 ]]\n"
     ]
    }
   ],
   "source": [
    "massiv = two_dim(5, 5)  # 3 қатор ва 4 устунли массив яратиш\n",
    "print(massiv)\n"
   ]
  },
  {
   "cell_type": "code",
   "execution_count": 2,
   "id": "cdb18881",
   "metadata": {},
   "outputs": [
    {
     "name": "stdout",
     "output_type": "stream",
     "text": [
      "lkjasdlkfj 55\n"
     ]
    }
   ],
   "source": [
    "a= 55\n",
    "print (f\"lkjasdlkfj {a}\")"
   ]
  },
  {
   "cell_type": "code",
   "execution_count": null,
   "id": "64effe83",
   "metadata": {},
   "outputs": [],
   "source": []
  },
  {
   "cell_type": "code",
   "execution_count": null,
   "id": "b7919ad2",
   "metadata": {},
   "outputs": [],
   "source": []
  },
  {
   "cell_type": "code",
   "execution_count": null,
   "id": "772b7208",
   "metadata": {},
   "outputs": [],
   "source": []
  },
  {
   "cell_type": "code",
   "execution_count": null,
   "id": "2652ab22",
   "metadata": {},
   "outputs": [],
   "source": []
  }
 ],
 "metadata": {
  "kernelspec": {
   "display_name": "Python 3 (ipykernel)",
   "language": "python",
   "name": "python3"
  },
  "language_info": {
   "codemirror_mode": {
    "name": "ipython",
    "version": 3
   },
   "file_extension": ".py",
   "mimetype": "text/x-python",
   "name": "python",
   "nbconvert_exporter": "python",
   "pygments_lexer": "ipython3",
   "version": "3.11.5"
  }
 },
 "nbformat": 4,
 "nbformat_minor": 5
}
