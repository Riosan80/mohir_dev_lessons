{
 "cells": [
  {
   "cell_type": "markdown",
   "id": "3f813010-4993-4b2c-b8c2-8a1da39800dc",
   "metadata": {},
   "source": [
    "# Massivga yo'naltirilgan dasturladh"
   ]
  },
  {
   "cell_type": "code",
   "execution_count": 1,
   "id": "32173664-5fae-44ec-9f65-c912185791a4",
   "metadata": {},
   "outputs": [],
   "source": [
    "import numpy as np"
   ]
  },
  {
   "cell_type": "code",
   "execution_count": 4,
   "id": "7ebac865-89e6-4c0f-b645-2dad93a6ddc3",
   "metadata": {},
   "outputs": [
    {
     "data": {
      "text/plain": [
       "(array([1.1, 1.2, 1.3, 1.4, 1.5]), array([2.1, 2.2, 2.3, 2.4, 2.5]))"
      ]
     },
     "execution_count": 4,
     "metadata": {},
     "output_type": "execute_result"
    }
   ],
   "source": [
    "xarr = np.arange(1.1, 1.6, 0.1)\n",
    "yarr = np.arange(2.1, 2.6, 0.1)\n",
    "xarr, yarr"
   ]
  },
  {
   "cell_type": "code",
   "execution_count": 6,
   "id": "3ab949b7-05fb-41ad-9bb1-0ae5a03a5bca",
   "metadata": {},
   "outputs": [],
   "source": [
    "# shart\n",
    "cond = np.array([True, False, True, True, False])"
   ]
  },
  {
   "cell_type": "code",
   "execution_count": 8,
   "id": "c4cb56ac-4af9-46b3-a688-a03d6eee19bd",
   "metadata": {},
   "outputs": [
    {
     "data": {
      "text/plain": [
       "array([1.1, 2.2, 1.3, 1.4, 2.5])"
      ]
     },
     "execution_count": 8,
     "metadata": {},
     "output_type": "execute_result"
    }
   ],
   "source": [
    "result = np.where(cond, xarr, yarr)\n",
    "result"
   ]
  },
  {
   "cell_type": "code",
   "execution_count": 101,
   "id": "024fa9dd-fd8e-4681-89d2-f2a3447a5a1e",
   "metadata": {},
   "outputs": [
    {
     "data": {
      "text/plain": [
       "array([[ 0.66580115, -1.89995212, -5.25974933,  3.85333179],\n",
       "       [ 2.10208576,  5.18357136, -9.62100708,  0.11884848],\n",
       "       [-0.66354189, -6.08164992,  9.03556625,  1.11242783],\n",
       "       [-6.99644747,  1.3953735 , -8.32971053,  4.73304131]])"
      ]
     },
     "execution_count": 101,
     "metadata": {},
     "output_type": "execute_result"
    }
   ],
   "source": [
    "arr = np.random.uniform(-10, 10, (4,4))\n",
    "arr"
   ]
  },
  {
   "cell_type": "code",
   "execution_count": 102,
   "id": "20b3213c-2e56-4fc3-876d-668906d31f98",
   "metadata": {},
   "outputs": [
    {
     "data": {
      "text/plain": [
       "array([[ 2, -2, -2,  2],\n",
       "       [ 2,  2, -2,  2],\n",
       "       [-2, -2,  2,  2],\n",
       "       [-2,  2, -2,  2]])"
      ]
     },
     "execution_count": 102,
     "metadata": {},
     "output_type": "execute_result"
    }
   ],
   "source": [
    "np.where(arr<0, -2, 2)"
   ]
  },
  {
   "cell_type": "markdown",
   "id": "fc47662f-0b2d-4600-b275-1758000a4351",
   "metadata": {},
   "source": [
    "### Arifmetik amallar"
   ]
  },
  {
   "cell_type": "code",
   "execution_count": 103,
   "id": "8a69069c-abc8-472d-8870-da0e76582734",
   "metadata": {},
   "outputs": [
    {
     "data": {
      "text/plain": [
       "(array([[0, 1, 2],\n",
       "        [3, 4, 5]]),\n",
       " array([[ 6,  7,  8],\n",
       "        [ 9, 10, 11]]))"
      ]
     },
     "execution_count": 103,
     "metadata": {},
     "output_type": "execute_result"
    }
   ],
   "source": [
    "arr1 = np.arange(6).reshape(2,3)\n",
    "arr2 = np.arange(6, 12).reshape(2,3)\n",
    "arr1, arr2"
   ]
  },
  {
   "cell_type": "code",
   "execution_count": 104,
   "id": "01885236-bbda-426c-8ced-e856f8bc9e9b",
   "metadata": {},
   "outputs": [
    {
     "data": {
      "text/plain": [
       "array([[ 0,  7, 16],\n",
       "       [27, 40, 55]])"
      ]
     },
     "execution_count": 104,
     "metadata": {},
     "output_type": "execute_result"
    }
   ],
   "source": [
    "arr1 *arr2"
   ]
  },
  {
   "cell_type": "code",
   "execution_count": 105,
   "id": "78ddaefd-a081-46df-8bda-2a04beef8d0f",
   "metadata": {},
   "outputs": [
    {
     "data": {
      "text/plain": [
       "array([[0.        , 0.14285714, 0.25      ],\n",
       "       [0.33333333, 0.4       , 0.45454545]])"
      ]
     },
     "execution_count": 105,
     "metadata": {},
     "output_type": "execute_result"
    }
   ],
   "source": [
    "arr1/arr2"
   ]
  },
  {
   "cell_type": "code",
   "execution_count": 106,
   "id": "5ef6972b-866f-450e-a3e9-7258bc27834e",
   "metadata": {},
   "outputs": [
    {
     "data": {
      "text/plain": [
       "array([[ 6,  8, 10],\n",
       "       [12, 14, 16]])"
      ]
     },
     "execution_count": 106,
     "metadata": {},
     "output_type": "execute_result"
    }
   ],
   "source": [
    "arr1+arr2"
   ]
  },
  {
   "cell_type": "code",
   "execution_count": 109,
   "id": "86deb1d3-8c07-43e5-a5d8-f1929d3acb63",
   "metadata": {},
   "outputs": [
    {
     "data": {
      "text/plain": [
       "array([[ 0,  1,  4],\n",
       "       [ 9, 16, 25]])"
      ]
     },
     "execution_count": 109,
     "metadata": {},
     "output_type": "execute_result"
    }
   ],
   "source": [
    "arr1**2"
   ]
  },
  {
   "cell_type": "code",
   "execution_count": 110,
   "id": "d2050608-8793-4903-b1b0-2789928c18c0",
   "metadata": {},
   "outputs": [
    {
     "data": {
      "text/plain": [
       "array([[2.44948974, 2.64575131, 2.82842712],\n",
       "       [3.        , 3.16227766, 3.31662479]])"
      ]
     },
     "execution_count": 110,
     "metadata": {},
     "output_type": "execute_result"
    }
   ],
   "source": [
    "arr2**0.5"
   ]
  },
  {
   "cell_type": "markdown",
   "id": "0f1ad11e-5a36-4359-8885-7194e07deb78",
   "metadata": {},
   "source": [
    "## Matematik va statistik usullarni qo'llash"
   ]
  },
  {
   "cell_type": "code",
   "execution_count": 113,
   "id": "b6430bf6-916e-4826-bab1-d24f6c52ab03",
   "metadata": {},
   "outputs": [
    {
     "data": {
      "text/plain": [
       "array([[ 0.0958189 , -0.92914616,  0.45094098, -0.73342478],\n",
       "       [-0.377198  ,  0.50970191,  0.89395003, -0.10009369],\n",
       "       [-0.54682487, -0.48489749,  0.7820422 ,  0.75608181],\n",
       "       [-0.2580721 ,  0.48438666,  0.54067947, -0.37660972],\n",
       "       [ 0.97793692,  0.82780983,  0.1243754 , -0.17170215]])"
      ]
     },
     "execution_count": 113,
     "metadata": {},
     "output_type": "execute_result"
    }
   ],
   "source": [
    "arr = np.random.uniform(-1,1, (5,4))\n",
    "arr"
   ]
  },
  {
   "cell_type": "code",
   "execution_count": 115,
   "id": "d228ec74-dc53-4e88-b303-a268adece7a4",
   "metadata": {},
   "outputs": [
    {
     "data": {
      "text/plain": [
       "2.465755159481092"
      ]
     },
     "execution_count": 115,
     "metadata": {},
     "output_type": "execute_result"
    }
   ],
   "source": [
    "arr.sum()"
   ]
  },
  {
   "cell_type": "code",
   "execution_count": 116,
   "id": "f9b1e112-63af-4736-820a-577ecb3787b4",
   "metadata": {},
   "outputs": [
    {
     "data": {
      "text/plain": [
       "2.465755159481092"
      ]
     },
     "execution_count": 116,
     "metadata": {},
     "output_type": "execute_result"
    }
   ],
   "source": [
    "np.sum(arr)"
   ]
  },
  {
   "cell_type": "code",
   "execution_count": 119,
   "id": "72238f75-b4ed-4e0b-aca8-9eff61918987",
   "metadata": {},
   "outputs": [
    {
     "data": {
      "text/plain": [
       "array([-1.11581106,  0.92636025,  0.50640166,  0.39038432,  1.75842   ])"
      ]
     },
     "execution_count": 119,
     "metadata": {},
     "output_type": "execute_result"
    }
   ],
   "source": [
    "arr.sum(axis=1) # qator yi'g'indisi"
   ]
  },
  {
   "cell_type": "code",
   "execution_count": 121,
   "id": "4db8bb85-80b8-4565-a61f-fa028c35467d",
   "metadata": {},
   "outputs": [
    {
     "data": {
      "text/plain": [
       "array([-0.10833915,  0.40785476,  2.79198807, -0.62574852])"
      ]
     },
     "execution_count": 121,
     "metadata": {},
     "output_type": "execute_result"
    }
   ],
   "source": [
    "arr.sum(axis=0) # ustun yi'g'indisi"
   ]
  },
  {
   "cell_type": "code",
   "execution_count": 122,
   "id": "f27a0ee1-407c-4e45-a2eb-da9910164911",
   "metadata": {},
   "outputs": [
    {
     "data": {
      "text/plain": [
       "0.1232877579740546"
      ]
     },
     "execution_count": 122,
     "metadata": {},
     "output_type": "execute_result"
    }
   ],
   "source": [
    "np.mean(arr)"
   ]
  },
  {
   "cell_type": "code",
   "execution_count": 124,
   "id": "ad1e803d-4e1d-4769-8cab-87a0cb428cb7",
   "metadata": {},
   "outputs": [
    {
     "data": {
      "text/plain": [
       "array([-0.27895276,  0.23159006,  0.12660041,  0.09759608,  0.439605  ])"
      ]
     },
     "execution_count": 124,
     "metadata": {},
     "output_type": "execute_result"
    }
   ],
   "source": [
    "arr.mean(axis=1)"
   ]
  },
  {
   "cell_type": "code",
   "execution_count": 125,
   "id": "b37b8292-fa2c-40d8-85e1-6ce2e93a828d",
   "metadata": {},
   "outputs": [
    {
     "data": {
      "text/plain": [
       "array([-0.02166783,  0.08157095,  0.55839761, -0.1251497 ])"
      ]
     },
     "execution_count": 125,
     "metadata": {},
     "output_type": "execute_result"
    }
   ],
   "source": [
    "arr.mean(axis=0)"
   ]
  },
  {
   "cell_type": "code",
   "execution_count": 133,
   "id": "c3904bad-5ded-4bbc-8c59-9e297eb2fca3",
   "metadata": {},
   "outputs": [
    {
     "data": {
      "text/plain": [
       "array([ 0.0958189 , -0.83332726, -0.38238628, -1.11581106, -1.49300906,\n",
       "       -0.98330715, -0.08935712, -0.18945081, -0.73627568, -1.22117316,\n",
       "       -0.43913097,  0.31695085,  0.05887875,  0.54326541,  1.08394488,\n",
       "        0.70733516,  1.68527208,  2.51308191,  2.63745731,  2.46575516])"
      ]
     },
     "execution_count": 133,
     "metadata": {},
     "output_type": "execute_result"
    }
   ],
   "source": [
    "arr.cumsum()"
   ]
  },
  {
   "cell_type": "code",
   "execution_count": 127,
   "id": "4036f67d-b87e-485b-b28f-6418858ac7f5",
   "metadata": {},
   "outputs": [
    {
     "data": {
      "text/plain": [
       "array([[ 0.0958189 , -0.92914616,  0.45094098, -0.73342478],\n",
       "       [-0.377198  ,  0.50970191,  0.89395003, -0.10009369],\n",
       "       [-0.54682487, -0.48489749,  0.7820422 ,  0.75608181],\n",
       "       [-0.2580721 ,  0.48438666,  0.54067947, -0.37660972],\n",
       "       [ 0.97793692,  0.82780983,  0.1243754 , -0.17170215]])"
      ]
     },
     "execution_count": 127,
     "metadata": {},
     "output_type": "execute_result"
    }
   ],
   "source": [
    "arr"
   ]
  },
  {
   "cell_type": "markdown",
   "id": "7906216b-4470-4e58-95f2-d01b0134d242",
   "metadata": {},
   "source": [
    "## Sorting"
   ]
  },
  {
   "cell_type": "code",
   "execution_count": 147,
   "id": "6b72aa8a-5219-45b3-bf7f-d5a8514b9374",
   "metadata": {},
   "outputs": [
    {
     "data": {
      "text/plain": [
       "array([0.89817478, 0.87060175, 0.63387566, 0.46678147])"
      ]
     },
     "execution_count": 147,
     "metadata": {},
     "output_type": "execute_result"
    }
   ],
   "source": [
    "arr = np.random.rand(4)\n",
    "arr"
   ]
  },
  {
   "cell_type": "code",
   "execution_count": 154,
   "id": "a43e6197-2888-4905-b39f-d48a08704d2f",
   "metadata": {},
   "outputs": [
    {
     "data": {
      "text/plain": [
       "array([0.46678147, 0.63387566, 0.87060175, 0.89817478])"
      ]
     },
     "execution_count": 154,
     "metadata": {},
     "output_type": "execute_result"
    }
   ],
   "source": [
    "# 1-usul\n",
    "sorted = np.sort(arr)\n",
    "sorted"
   ]
  },
  {
   "cell_type": "code",
   "execution_count": 157,
   "id": "e90aee58-95fb-4dd2-aa8f-b4e6cedfd1e8",
   "metadata": {},
   "outputs": [],
   "source": [
    "# 2-usul\n",
    "arr.sort()"
   ]
  },
  {
   "cell_type": "code",
   "execution_count": 158,
   "id": "090c075b-c6d8-4ff6-8877-8a1d10dc2c2d",
   "metadata": {},
   "outputs": [
    {
     "data": {
      "text/plain": [
       "array([0.46678147, 0.63387566, 0.87060175, 0.89817478])"
      ]
     },
     "execution_count": 158,
     "metadata": {},
     "output_type": "execute_result"
    }
   ],
   "source": [
    "arr"
   ]
  },
  {
   "cell_type": "code",
   "execution_count": 160,
   "id": "d139a253-cc9f-42de-8cef-d01037febb25",
   "metadata": {},
   "outputs": [
    {
     "data": {
      "text/plain": [
       "array([0.89817478, 0.87060175, 0.63387566, 0.46678147])"
      ]
     },
     "execution_count": 160,
     "metadata": {},
     "output_type": "execute_result"
    }
   ],
   "source": [
    "# teskari tartiblsh\n",
    "rev_arr = - np.sort(-arr)\n",
    "rev_arr"
   ]
  },
  {
   "cell_type": "code",
   "execution_count": 161,
   "id": "eb20d193-bcb5-4962-bf51-06c676a16ac7",
   "metadata": {},
   "outputs": [
    {
     "data": {
      "text/plain": [
       "array([[0.68107522, 0.6345984 , 0.92626302, 0.6069951 ],\n",
       "       [0.61597928, 0.33802252, 0.25358463, 0.2899205 ]])"
      ]
     },
     "execution_count": 161,
     "metadata": {},
     "output_type": "execute_result"
    }
   ],
   "source": [
    "arr2d = np.random.rand(2,4)\n",
    "arr2d"
   ]
  },
  {
   "cell_type": "code",
   "execution_count": 163,
   "id": "6f82c0d5-1249-4d21-a7cf-9cdc6aa6e534",
   "metadata": {},
   "outputs": [
    {
     "data": {
      "text/plain": [
       "array([[0.61597928, 0.33802252, 0.25358463, 0.2899205 ],\n",
       "       [0.68107522, 0.6345984 , 0.92626302, 0.6069951 ]])"
      ]
     },
     "execution_count": 163,
     "metadata": {},
     "output_type": "execute_result"
    }
   ],
   "source": [
    "# axis 0 (qator\n",
    "row_sort = np.sort(arr2d, axis=0)\n",
    "row_sort"
   ]
  },
  {
   "cell_type": "code",
   "execution_count": 164,
   "id": "fe083f25-6d20-46b9-ad67-07256a8f277e",
   "metadata": {},
   "outputs": [
    {
     "data": {
      "text/plain": [
       "array([[0.6069951 , 0.6345984 , 0.68107522, 0.92626302],\n",
       "       [0.25358463, 0.2899205 , 0.33802252, 0.61597928]])"
      ]
     },
     "execution_count": 164,
     "metadata": {},
     "output_type": "execute_result"
    }
   ],
   "source": [
    "col_sort = np.sort(arr2d, axis=1)\n",
    "col_sort"
   ]
  },
  {
   "cell_type": "code",
   "execution_count": null,
   "id": "63813d20-d1ca-48a7-b4be-657633e8eaf1",
   "metadata": {},
   "outputs": [],
   "source": []
  },
  {
   "cell_type": "code",
   "execution_count": null,
   "id": "c53c5e90-e887-4e80-a102-b4e9d02458ba",
   "metadata": {},
   "outputs": [],
   "source": []
  },
  {
   "cell_type": "code",
   "execution_count": null,
   "id": "802bc75e-45e7-474f-8768-6e5a3fa31770",
   "metadata": {},
   "outputs": [],
   "source": []
  },
  {
   "cell_type": "code",
   "execution_count": null,
   "id": "aa6883bf-dec1-479a-a625-cffad91205b3",
   "metadata": {},
   "outputs": [],
   "source": []
  }
 ],
 "metadata": {
  "kernelspec": {
   "display_name": "Python 3 (ipykernel)",
   "language": "python",
   "name": "python3"
  },
  "language_info": {
   "codemirror_mode": {
    "name": "ipython",
    "version": 3
   },
   "file_extension": ".py",
   "mimetype": "text/x-python",
   "name": "python",
   "nbconvert_exporter": "python",
   "pygments_lexer": "ipython3",
   "version": "3.11.5"
  }
 },
 "nbformat": 4,
 "nbformat_minor": 5
}
