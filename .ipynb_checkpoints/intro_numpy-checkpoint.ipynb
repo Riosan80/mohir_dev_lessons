{
 "cells": [
  {
   "cell_type": "code",
   "execution_count": 1,
   "id": "29940c31",
   "metadata": {},
   "outputs": [],
   "source": [
    "import numpy as np"
   ]
  },
  {
   "cell_type": "code",
   "execution_count": 3,
   "id": "6774accf",
   "metadata": {},
   "outputs": [],
   "source": [
    "my_list = list(range(100_000))\n",
    "my_array = np.array(range(100_000))"
   ]
  },
  {
   "cell_type": "code",
   "execution_count": 24,
   "id": "fc7e5e1f",
   "metadata": {},
   "outputs": [
    {
     "name": "stdout",
     "output_type": "stream",
     "text": [
      "Wall time: 103 ms\n"
     ]
    }
   ],
   "source": [
    "%time for _ in range(10): [x*2 for x in my_list]  # Normal"
   ]
  },
  {
   "cell_type": "code",
   "execution_count": 25,
   "id": "4c387705",
   "metadata": {},
   "outputs": [
    {
     "name": "stdout",
     "output_type": "stream",
     "text": [
      "Wall time: 1.99 ms\n"
     ]
    }
   ],
   "source": [
    "%time for _ in range(10): my_array*2"
   ]
  },
  {
   "cell_type": "markdown",
   "id": "0bf98cdd",
   "metadata": {},
   "source": [
    "# Greating Array"
   ]
  },
  {
   "cell_type": "code",
   "execution_count": 27,
   "id": "5c28d1b8",
   "metadata": {},
   "outputs": [
    {
     "data": {
      "text/plain": [
       "array([5. , 6. , 4.5, 8. ])"
      ]
     },
     "execution_count": 27,
     "metadata": {},
     "output_type": "execute_result"
    }
   ],
   "source": [
    "listlar = [5,6,4.5,8]\n",
    "arr1 = np.array(listlar)\n",
    "arr1"
   ]
  },
  {
   "cell_type": "code",
   "execution_count": 30,
   "id": "48264b28",
   "metadata": {},
   "outputs": [
    {
     "data": {
      "text/plain": [
       "1"
      ]
     },
     "execution_count": 30,
     "metadata": {},
     "output_type": "execute_result"
    }
   ],
   "source": [
    "arr1.ndim"
   ]
  },
  {
   "cell_type": "code",
   "execution_count": 41,
   "id": "17bfa523",
   "metadata": {},
   "outputs": [],
   "source": [
    "data4 = [[1,5,7,5], [1,2,2,9]]\n",
    "arr2 = np.array(data4)"
   ]
  },
  {
   "cell_type": "code",
   "execution_count": 42,
   "id": "1a1c5749",
   "metadata": {},
   "outputs": [
    {
     "data": {
      "text/plain": [
       "2"
      ]
     },
     "execution_count": 42,
     "metadata": {},
     "output_type": "execute_result"
    }
   ],
   "source": [
    "arr2.ndim"
   ]
  },
  {
   "cell_type": "code",
   "execution_count": 43,
   "id": "6d58f3c7",
   "metadata": {},
   "outputs": [
    {
     "data": {
      "text/plain": [
       "array([[1, 5, 7, 5],\n",
       "       [1, 2, 2, 9]])"
      ]
     },
     "execution_count": 43,
     "metadata": {},
     "output_type": "execute_result"
    }
   ],
   "source": [
    "arr2"
   ]
  },
  {
   "cell_type": "code",
   "execution_count": 44,
   "id": "a65f6d5c",
   "metadata": {},
   "outputs": [
    {
     "name": "stdout",
     "output_type": "stream",
     "text": [
      "Massiv o'lcchami (2, 4) va elementlar soni 8 ta\n"
     ]
    }
   ],
   "source": [
    "print (f\"Massiv o'lcchami {arr2.shape} va elementlar soni {arr2.size} ta\")"
   ]
  },
  {
   "cell_type": "code",
   "execution_count": 50,
   "id": "d0b8fc63",
   "metadata": {},
   "outputs": [
    {
     "data": {
      "text/plain": [
       "array([[0., 0., 0., 0., 0.],\n",
       "       [0., 0., 0., 0., 0.],\n",
       "       [0., 0., 0., 0., 0.],\n",
       "       [0., 0., 0., 0., 0.],\n",
       "       [0., 0., 0., 0., 0.]])"
      ]
     },
     "execution_count": 50,
     "metadata": {},
     "output_type": "execute_result"
    }
   ],
   "source": [
    "arr4 = np.zeros(shape = (5,5))\n",
    "\n",
    "arr4"
   ]
  },
  {
   "cell_type": "code",
   "execution_count": 53,
   "id": "8fb3704b",
   "metadata": {},
   "outputs": [
    {
     "data": {
      "text/plain": [
       "array([[1., 1., 1., 1., 1.],\n",
       "       [1., 1., 1., 1., 1.],\n",
       "       [1., 1., 1., 1., 1.],\n",
       "       [1., 1., 1., 1., 1.],\n",
       "       [1., 1., 1., 1., 1.]])"
      ]
     },
     "execution_count": 53,
     "metadata": {},
     "output_type": "execute_result"
    }
   ],
   "source": [
    "arr5 = np.ones((5,5))\n",
    "\n",
    "arr5"
   ]
  },
  {
   "cell_type": "code",
   "execution_count": 55,
   "id": "ab41dfc4",
   "metadata": {},
   "outputs": [
    {
     "data": {
      "text/plain": [
       "array([ 2,  7, 12, 17, 22, 27, 32, 37, 42, 47])"
      ]
     },
     "execution_count": 55,
     "metadata": {},
     "output_type": "execute_result"
    }
   ],
   "source": [
    "arr6 = np.arange(2,50,5)\n",
    "arr6"
   ]
  },
  {
   "cell_type": "code",
   "execution_count": 58,
   "id": "1c17094d",
   "metadata": {},
   "outputs": [],
   "source": [
    "def one_dim(n):\n",
    "    \"\"\" n ta elementdan tashkil topgan 1-o'lchamli massiv \"\"\"\n",
    "    if n > 0 and isinstance(n, int):  # n musbat butun sonligini tekshirish\n",
    "        return np.random.rand(n)  # Tasodifiy sonlardan iborat massiv\n",
    "    else:\n",
    "        raise ValueError(\"n musbat butun son bo'lishi kerak\")"
   ]
  },
  {
   "cell_type": "code",
   "execution_count": 59,
   "id": "83b93631",
   "metadata": {},
   "outputs": [],
   "source": [
    "def two_dim(r, c):\n",
    "    \"\"\"r ta qator, c ta ustundan tashkil topgan 2-o'lchamli massiv\"\"\"\n",
    "    if r > 0 and c > 0 and isinstance(r, int) and isinstance(c, int):  # r va c musbat butun sonligini tekshirish\n",
    "        return np.random.rand(r, c)  # Tasodifiy sonlardan iborat 2-o'lchamli massiv\n",
    "    else:\n",
    "        raise ValueError(\"r va c musbat butun sonlar bo'lishi kerak\")\n"
   ]
  },
  {
   "cell_type": "code",
   "execution_count": 61,
   "id": "91b74df9",
   "metadata": {},
   "outputs": [
    {
     "name": "stdout",
     "output_type": "stream",
     "text": [
      "[[0.3037038  0.33274112 0.98543247 0.12163021 0.0309442 ]\n",
      " [0.29651887 0.2082797  0.40706557 0.23065697 0.3786746 ]\n",
      " [0.24648311 0.18379004 0.62303911 0.15535051 0.98897956]\n",
      " [0.08760721 0.22286532 0.95844238 0.9378052  0.62963519]\n",
      " [0.50577901 0.32215604 0.1268491  0.05825904 0.8766101 ]]\n"
     ]
    }
   ],
   "source": [
    "massiv = two_dim(5, 5)  # 3 қатор ва 4 устунли массив яратиш\n",
    "print(massiv)\n"
   ]
  },
  {
   "cell_type": "markdown",
   "id": "c1702944-d8bd-4f5b-8ff3-dac13cb6efed",
   "metadata": {},
   "source": [
    "# Transporsin & Swapping"
   ]
  },
  {
   "cell_type": "code",
   "execution_count": 4,
   "id": "f9d13699-059e-47dc-a94a-e84a8114ee92",
   "metadata": {},
   "outputs": [
    {
     "data": {
      "text/plain": [
       "array([[0, 1],\n",
       "       [2, 3],\n",
       "       [4, 5]])"
      ]
     },
     "execution_count": 4,
     "metadata": {},
     "output_type": "execute_result"
    }
   ],
   "source": [
    "a = np.arange(6).reshape(3,2)\n",
    "a"
   ]
  },
  {
   "cell_type": "code",
   "execution_count": 7,
   "id": "ab0291ce-dc4b-4bd3-8aed-74764b17bd42",
   "metadata": {},
   "outputs": [
    {
     "data": {
      "text/plain": [
       "array([[0, 2, 4],\n",
       "       [1, 3, 5]])"
      ]
     },
     "execution_count": 7,
     "metadata": {},
     "output_type": "execute_result"
    }
   ],
   "source": [
    "a.T #Transporse"
   ]
  },
  {
   "cell_type": "code",
   "execution_count": 8,
   "id": "fe9e4bda-a588-4278-b002-afe92fdbf4e4",
   "metadata": {},
   "outputs": [
    {
     "data": {
      "text/plain": [
       "array([[0, 1],\n",
       "       [2, 3],\n",
       "       [4, 5]])"
      ]
     },
     "execution_count": 8,
     "metadata": {},
     "output_type": "execute_result"
    }
   ],
   "source": [
    "a"
   ]
  },
  {
   "cell_type": "code",
   "execution_count": 9,
   "id": "b8553a92-d120-47cc-868e-7cbc98a26aed",
   "metadata": {},
   "outputs": [
    {
     "data": {
      "text/plain": [
       "array([[0, 2, 4],\n",
       "       [1, 3, 5]])"
      ]
     },
     "execution_count": 9,
     "metadata": {},
     "output_type": "execute_result"
    }
   ],
   "source": [
    "a.swapaxes(1,0)"
   ]
  },
  {
   "cell_type": "code",
   "execution_count": 12,
   "id": "396703f5-dc26-495d-aa14-6c9d933d0282",
   "metadata": {},
   "outputs": [
    {
     "data": {
      "text/plain": [
       "array([[ 1,  3,  5],\n",
       "       [ 3, 13, 23],\n",
       "       [ 5, 23, 41]])"
      ]
     },
     "execution_count": 12,
     "metadata": {},
     "output_type": "execute_result"
    }
   ],
   "source": [
    "np.dot(a, a.T) # a va a ning transporsidan hosil bo'lgan massiv"
   ]
  },
  {
   "cell_type": "markdown",
   "id": "5d1e5abc-7614-4b19-a703-988912c5a67f",
   "metadata": {},
   "source": [
    "## Uneversal funksiyalar    https://www.artofcse.com/learning/numpy-array-unary-operations\n",
    "#### unary funksiyalar - 1 ta argument qabul qiladi  \n",
    "#### masalan, sqrt, square, exp, log, modf, sign, isnan"
   ]
  },
  {
   "cell_type": "code",
   "execution_count": 14,
   "id": "cb41215b-1fa2-423c-a6a5-ce3083c9fe16",
   "metadata": {},
   "outputs": [
    {
     "data": {
      "text/plain": [
       "array([0, 1, 2, 3, 4, 5, 6, 7, 8, 9])"
      ]
     },
     "execution_count": 14,
     "metadata": {},
     "output_type": "execute_result"
    }
   ],
   "source": [
    "arr = np.arange(10)\n",
    "arr"
   ]
  },
  {
   "cell_type": "code",
   "execution_count": 16,
   "id": "592459e0-924e-4971-8d28-b161e4883488",
   "metadata": {},
   "outputs": [
    {
     "data": {
      "text/plain": [
       "array([0.        , 1.        , 1.41421356, 1.73205081, 2.        ,\n",
       "       2.23606798, 2.44948974, 2.64575131, 2.82842712, 3.        ])"
      ]
     },
     "execution_count": 16,
     "metadata": {},
     "output_type": "execute_result"
    }
   ],
   "source": [
    "np.sqrt(arr) #kvadrat ildiz"
   ]
  },
  {
   "cell_type": "code",
   "execution_count": 18,
   "id": "0caa3359-492f-4494-9fb1-f36da2f088ab",
   "metadata": {},
   "outputs": [
    {
     "data": {
      "text/plain": [
       "array([ 0,  1,  4,  9, 16, 25, 36, 49, 64, 81])"
      ]
     },
     "execution_count": 18,
     "metadata": {},
     "output_type": "execute_result"
    }
   ],
   "source": [
    "np.square(arr)  # kvadrat hisoblaydi"
   ]
  },
  {
   "cell_type": "code",
   "execution_count": 19,
   "id": "64effe83",
   "metadata": {},
   "outputs": [
    {
     "data": {
      "text/plain": [
       "array([1.00000000e+00, 2.71828183e+00, 7.38905610e+00, 2.00855369e+01,\n",
       "       5.45981500e+01, 1.48413159e+02, 4.03428793e+02, 1.09663316e+03,\n",
       "       2.98095799e+03, 8.10308393e+03])"
      ]
     },
     "execution_count": 19,
     "metadata": {},
     "output_type": "execute_result"
    }
   ],
   "source": [
    "np.exp(arr)"
   ]
  },
  {
   "cell_type": "code",
   "execution_count": 183,
   "id": "b7919ad2",
   "metadata": {},
   "outputs": [
    {
     "data": {
      "text/plain": [
       "array([-3, -2, -1,  0,  1,  2,  3,  4,  5])"
      ]
     },
     "execution_count": 183,
     "metadata": {},
     "output_type": "execute_result"
    }
   ],
   "source": [
    "arr1 = np.arange(-3, 6, 1)\n",
    "arr1"
   ]
  },
  {
   "cell_type": "code",
   "execution_count": 168,
   "id": "772b7208",
   "metadata": {},
   "outputs": [
    {
     "data": {
      "text/plain": [
       "array([4.97870684e-02, 1.35335283e-01, 3.67879441e-01, 1.00000000e+00,\n",
       "       2.71828183e+00, 7.38905610e+00, 2.00855369e+01, 5.45981500e+01,\n",
       "       1.48413159e+02])"
      ]
     },
     "execution_count": 168,
     "metadata": {},
     "output_type": "execute_result"
    }
   ],
   "source": [
    "np.exp(arr1)"
   ]
  },
  {
   "cell_type": "code",
   "execution_count": 169,
   "id": "2652ab22",
   "metadata": {},
   "outputs": [
    {
     "name": "stderr",
     "output_type": "stream",
     "text": [
      "C:\\Users\\User\\AppData\\Local\\Temp\\ipykernel_12080\\3120950136.py:1: RuntimeWarning: divide by zero encountered in log\n",
      "  np.log(arr)\n"
     ]
    },
    {
     "data": {
      "text/plain": [
       "array([      -inf, 0.        , 0.69314718, 1.09861229, 1.38629436,\n",
       "       1.60943791, 1.79175947, 1.94591015, 2.07944154, 2.19722458])"
      ]
     },
     "execution_count": 169,
     "metadata": {},
     "output_type": "execute_result"
    }
   ],
   "source": [
    "np.log(arr)"
   ]
  },
  {
   "cell_type": "code",
   "execution_count": 170,
   "id": "c0dca7cd-5932-4e6e-a403-f85662a4fe5c",
   "metadata": {},
   "outputs": [
    {
     "data": {
      "text/plain": [
       "array([0.69314718, 1.09861229, 1.38629436, 1.60943791, 1.79175947,\n",
       "       1.94591015, 2.07944154, 2.19722458])"
      ]
     },
     "execution_count": 170,
     "metadata": {},
     "output_type": "execute_result"
    }
   ],
   "source": [
    "np.log(arr[2:])"
   ]
  },
  {
   "cell_type": "code",
   "execution_count": 26,
   "id": "f6adbfd9-c2c5-4f83-9d89-1737b1b613de",
   "metadata": {},
   "outputs": [
    {
     "data": {
      "text/plain": [
       "(array([0., 0., 0., 0., 0., 0., 0., 0., 0., 0.]),\n",
       " array([0., 1., 2., 3., 4., 5., 6., 7., 8., 9.]))"
      ]
     },
     "execution_count": 26,
     "metadata": {},
     "output_type": "execute_result"
    }
   ],
   "source": [
    "np.modf(arr)"
   ]
  },
  {
   "cell_type": "code",
   "execution_count": 182,
   "id": "d8ec1b21-6ac5-4de3-83f2-c989d99a5ae5",
   "metadata": {},
   "outputs": [
    {
     "name": "stdout",
     "output_type": "stream",
     "text": [
      "CPU times: total: 0 ns\n",
      "Wall time: 0 ns\n"
     ]
    },
    {
     "data": {
      "text/plain": [
       "array([0.3469326 , 0.39719727, 0.48017973])"
      ]
     },
     "execution_count": 182,
     "metadata": {},
     "output_type": "execute_result"
    }
   ],
   "source": [
    "%time\n",
    "arr1 = np.random.rand(3)\n",
    "arr1"
   ]
  },
  {
   "cell_type": "code",
   "execution_count": 160,
   "id": "765f5f74-375d-4762-961d-3b789d169314",
   "metadata": {},
   "outputs": [],
   "source": [
    "qolqiq, butun = np.modf(arr1)"
   ]
  },
  {
   "cell_type": "code",
   "execution_count": 161,
   "id": "7575e4d1-acb4-44d1-a6b9-057b4fae54fa",
   "metadata": {},
   "outputs": [
    {
     "data": {
      "text/plain": [
       "array([0.15273831, 0.66666063, 0.01734812])"
      ]
     },
     "execution_count": 161,
     "metadata": {},
     "output_type": "execute_result"
    }
   ],
   "source": [
    "qolqiq"
   ]
  },
  {
   "cell_type": "code",
   "execution_count": 162,
   "id": "ab63224d-3cdd-4608-8eac-0c5d05da64df",
   "metadata": {},
   "outputs": [
    {
     "data": {
      "text/plain": [
       "array([1., 1., 1.])"
      ]
     },
     "execution_count": 162,
     "metadata": {},
     "output_type": "execute_result"
    }
   ],
   "source": [
    "butun"
   ]
  },
  {
   "cell_type": "code",
   "execution_count": 184,
   "id": "7db7e0eb-56d9-4763-886f-dabf37a3ce57",
   "metadata": {},
   "outputs": [
    {
     "data": {
      "text/plain": [
       "array([-3, -2, -1,  0,  1,  2,  3,  4,  5])"
      ]
     },
     "execution_count": 184,
     "metadata": {},
     "output_type": "execute_result"
    }
   ],
   "source": [
    "arr1"
   ]
  },
  {
   "cell_type": "code",
   "execution_count": 185,
   "id": "8d2dd745-1189-465e-9177-33e8384d92db",
   "metadata": {},
   "outputs": [
    {
     "data": {
      "text/plain": [
       "array([-1, -1, -1,  0,  1,  1,  1,  1,  1])"
      ]
     },
     "execution_count": 185,
     "metadata": {},
     "output_type": "execute_result"
    }
   ],
   "source": [
    "np.sign(arr1)"
   ]
  },
  {
   "cell_type": "code",
   "execution_count": 200,
   "id": "93a2394e-741a-426a-9f63-4731604c60ac",
   "metadata": {},
   "outputs": [
    {
     "data": {
      "text/plain": [
       "array([[False, False, False],\n",
       "       [ True, False, False],\n",
       "       [False, False, False]])"
      ]
     },
     "execution_count": 200,
     "metadata": {},
     "output_type": "execute_result"
    }
   ],
   "source": [
    "np.isnan(arr2)"
   ]
  },
  {
   "cell_type": "code",
   "execution_count": 199,
   "id": "0c200c48-f790-4603-ac0d-a38e49088fd9",
   "metadata": {},
   "outputs": [],
   "source": [
    "arr2 = ((3, 4 ,6), (np.NaN, 5, 4), (2, 0,6))"
   ]
  },
  {
   "cell_type": "code",
   "execution_count": 197,
   "id": "8b8e453e-6e6f-4637-91f0-978b24d3986f",
   "metadata": {},
   "outputs": [
    {
     "ename": "ValueError",
     "evalue": "cannot convert float NaN to integer",
     "output_type": "error",
     "traceback": [
      "\u001b[1;31m---------------------------------------------------------------------------\u001b[0m",
      "\u001b[1;31mValueError\u001b[0m                                Traceback (most recent call last)",
      "Cell \u001b[1;32mIn[197], line 1\u001b[0m\n\u001b[1;32m----> 1\u001b[0m arr[\u001b[38;5;241m3\u001b[39m] \u001b[38;5;241m=\u001b[39m np\u001b[38;5;241m.\u001b[39mNaN\n",
      "\u001b[1;31mValueError\u001b[0m: cannot convert float NaN to integer"
     ]
    }
   ],
   "source": [
    "arr[3] = np.NaN"
   ]
  },
  {
   "cell_type": "code",
   "execution_count": 198,
   "id": "b08c52bc-ee96-4384-9004-11b5d375fcbb",
   "metadata": {},
   "outputs": [
    {
     "data": {
      "text/plain": [
       "array([0, 1, 2, 3, 4, 5, 6, 7, 8, 9])"
      ]
     },
     "execution_count": 198,
     "metadata": {},
     "output_type": "execute_result"
    }
   ],
   "source": [
    "arr"
   ]
  },
  {
   "cell_type": "markdown",
   "id": "303210ab-4623-4f0a-9c91-6eeecbf54283",
   "metadata": {},
   "source": [
    "### Binary funksiyalar - 2 ta argument qabul qiladi"
   ]
  },
  {
   "cell_type": "code",
   "execution_count": 214,
   "id": "6ab0922c-74ec-4ced-83bb-51282d9120c6",
   "metadata": {},
   "outputs": [
    {
     "data": {
      "text/plain": [
       "(array([0.8140815 , 0.26739833, 0.58593955, 0.65343923, 0.06247861]),\n",
       " array([0.67795746, 0.99993949, 0.75098777, 0.80510762, 0.54582095]))"
      ]
     },
     "execution_count": 214,
     "metadata": {},
     "output_type": "execute_result"
    }
   ],
   "source": [
    "arr1 = np.random.rand(5)\n",
    "arr2 = np.random.rand(5)\n",
    "arr1, arr2"
   ]
  },
  {
   "cell_type": "code",
   "execution_count": 215,
   "id": "4187efcf-833d-481f-89d6-6a86f15e4f01",
   "metadata": {},
   "outputs": [
    {
     "data": {
      "text/plain": [
       "array([1.49203896, 1.26733782, 1.33692732, 1.45854685, 0.60829955])"
      ]
     },
     "execution_count": 215,
     "metadata": {},
     "output_type": "execute_result"
    }
   ],
   "source": [
    "np.add(arr1, arr2)"
   ]
  },
  {
   "cell_type": "code",
   "execution_count": 216,
   "id": "805b84db-1869-4b29-85a3-b1121cf55035",
   "metadata": {},
   "outputs": [
    {
     "data": {
      "text/plain": [
       "array([0.55191263, 0.26738215, 0.44003344, 0.5260889 , 0.03410213])"
      ]
     },
     "execution_count": 216,
     "metadata": {},
     "output_type": "execute_result"
    }
   ],
   "source": [
    "np.multiply(arr1, arr2)"
   ]
  },
  {
   "cell_type": "code",
   "execution_count": 217,
   "id": "d1caaf8f-cbf7-4d3d-a07b-9dfa7b0a3f08",
   "metadata": {},
   "outputs": [
    {
     "data": {
      "text/plain": [
       "array([0.8140815 , 0.99993949, 0.75098777, 0.80510762, 0.54582095])"
      ]
     },
     "execution_count": 217,
     "metadata": {},
     "output_type": "execute_result"
    }
   ],
   "source": [
    "np.maximum(arr1, arr2)"
   ]
  },
  {
   "cell_type": "code",
   "execution_count": 222,
   "id": "35ff0b44-cf81-4b16-bd68-c231aa190e23",
   "metadata": {},
   "outputs": [],
   "source": [
    "ar = np.array([np.NaN, np.NaN, 12, 34, np.NaN, 0])"
   ]
  },
  {
   "cell_type": "code",
   "execution_count": 224,
   "id": "cdef4c30-38c3-4a1d-a159-96b27d55d76d",
   "metadata": {},
   "outputs": [
    {
     "data": {
      "text/plain": [
       "array([ True,  True, False, False,  True, False])"
      ]
     },
     "execution_count": 224,
     "metadata": {},
     "output_type": "execute_result"
    }
   ],
   "source": [
    "np.isnan(ar)"
   ]
  },
  {
   "cell_type": "code",
   "execution_count": null,
   "id": "6068c3b3-7f13-4c71-8971-15437e11688e",
   "metadata": {},
   "outputs": [],
   "source": []
  },
  {
   "cell_type": "code",
   "execution_count": null,
   "id": "9860719c-954a-4372-a341-ad55c4e0fa7e",
   "metadata": {},
   "outputs": [],
   "source": []
  },
  {
   "cell_type": "code",
   "execution_count": null,
   "id": "c212fed3-5a13-47bc-a9b6-b56f3b68721c",
   "metadata": {},
   "outputs": [],
   "source": []
  },
  {
   "cell_type": "code",
   "execution_count": null,
   "id": "7e35904d-68df-43f4-b8dd-f1a0ae43549f",
   "metadata": {},
   "outputs": [],
   "source": []
  },
  {
   "cell_type": "code",
   "execution_count": null,
   "id": "e1a74294-ce65-47a9-ace6-17cf593ce019",
   "metadata": {},
   "outputs": [],
   "source": []
  },
  {
   "cell_type": "code",
   "execution_count": null,
   "id": "83224431-3aaf-4a2d-b92b-453096d01412",
   "metadata": {},
   "outputs": [],
   "source": []
  },
  {
   "cell_type": "code",
   "execution_count": null,
   "id": "dea1b85d-7324-457d-a2e5-b7078adae93d",
   "metadata": {},
   "outputs": [],
   "source": []
  },
  {
   "cell_type": "code",
   "execution_count": null,
   "id": "aaaee5a2-54a9-4f8a-ac49-9850aec2e0b7",
   "metadata": {},
   "outputs": [],
   "source": []
  }
 ],
 "metadata": {
  "kernelspec": {
   "display_name": "Python 3 (ipykernel)",
   "language": "python",
   "name": "python3"
  },
  "language_info": {
   "codemirror_mode": {
    "name": "ipython",
    "version": 3
   },
   "file_extension": ".py",
   "mimetype": "text/x-python",
   "name": "python",
   "nbconvert_exporter": "python",
   "pygments_lexer": "ipython3",
   "version": "3.11.5"
  }
 },
 "nbformat": 4,
 "nbformat_minor": 5
}
