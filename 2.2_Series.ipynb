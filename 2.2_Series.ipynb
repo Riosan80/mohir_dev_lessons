{
 "cells": [
  {
   "cell_type": "code",
   "execution_count": 2,
   "id": "5ed063a9-e505-4d4f-adda-827ed25c455a",
   "metadata": {},
   "outputs": [],
   "source": [
    "import numpy as np\n",
    "import pandas as pd"
   ]
  },
  {
   "cell_type": "markdown",
   "id": "0224b72d-44ca-45ee-abc2-7fa29f4fea5f",
   "metadata": {},
   "source": [
    "## Series"
   ]
  },
  {
   "cell_type": "code",
   "execution_count": 3,
   "id": "101a3700-9c5e-4ac4-9615-d5486182714f",
   "metadata": {},
   "outputs": [],
   "source": [
    "from pandas import Series"
   ]
  },
  {
   "cell_type": "code",
   "execution_count": 4,
   "id": "80c10021-c495-4153-8e47-990d3612d1c4",
   "metadata": {},
   "outputs": [],
   "source": [
    "obj = Series([4,5,6,-4.2])"
   ]
  },
  {
   "cell_type": "code",
   "execution_count": 6,
   "id": "ef9afae7-b765-4f99-8f39-6b9039b36c38",
   "metadata": {},
   "outputs": [
    {
     "data": {
      "text/plain": [
       "pandas.core.series.Series"
      ]
     },
     "execution_count": 6,
     "metadata": {},
     "output_type": "execute_result"
    }
   ],
   "source": [
    "type(obj)"
   ]
  },
  {
   "cell_type": "code",
   "execution_count": 7,
   "id": "ae959957-df0f-404a-b265-a2271d99cda9",
   "metadata": {},
   "outputs": [
    {
     "data": {
      "text/plain": [
       "0    4.0\n",
       "1    5.0\n",
       "2    6.0\n",
       "3   -4.2\n",
       "dtype: float64"
      ]
     },
     "execution_count": 7,
     "metadata": {},
     "output_type": "execute_result"
    }
   ],
   "source": [
    "obj"
   ]
  },
  {
   "cell_type": "code",
   "execution_count": 8,
   "id": "44e9d211-0852-4089-9e62-07a5e8bccfa8",
   "metadata": {},
   "outputs": [
    {
     "data": {
      "text/plain": [
       "array([ 4. ,  5. ,  6. , -4.2])"
      ]
     },
     "execution_count": 8,
     "metadata": {},
     "output_type": "execute_result"
    }
   ],
   "source": [
    "obj.values"
   ]
  },
  {
   "cell_type": "code",
   "execution_count": 9,
   "id": "4ff0de0f-5f38-4be5-9238-275b91a3fa42",
   "metadata": {},
   "outputs": [
    {
     "data": {
      "text/plain": [
       "RangeIndex(start=0, stop=4, step=1)"
      ]
     },
     "execution_count": 9,
     "metadata": {},
     "output_type": "execute_result"
    }
   ],
   "source": [
    "obj.index"
   ]
  },
  {
   "cell_type": "code",
   "execution_count": 10,
   "id": "c7f809a6-55c2-406d-8b16-298c02ac4ba7",
   "metadata": {},
   "outputs": [],
   "source": [
    "obj2 = Series([6,4,2,7], index = ['a','b','c','d'])"
   ]
  },
  {
   "cell_type": "code",
   "execution_count": 13,
   "id": "b688cc1f-24f5-4c1c-b419-1ff597988dad",
   "metadata": {},
   "outputs": [
    {
     "data": {
      "text/plain": [
       "a    6\n",
       "d    7\n",
       "dtype: int64"
      ]
     },
     "execution_count": 13,
     "metadata": {},
     "output_type": "execute_result"
    }
   ],
   "source": [
    "obj2[['a', 'd']]"
   ]
  },
  {
   "cell_type": "code",
   "execution_count": 14,
   "id": "a764a327-acc0-47a7-9f53-952004d83ea3",
   "metadata": {},
   "outputs": [
    {
     "data": {
      "text/plain": [
       "a    6\n",
       "a    6\n",
       "dtype: int64"
      ]
     },
     "execution_count": 14,
     "metadata": {},
     "output_type": "execute_result"
    }
   ],
   "source": [
    "obj2[['a', 'a']]"
   ]
  },
  {
   "cell_type": "code",
   "execution_count": 15,
   "id": "45d0ff5f-61c6-48dc-b4de-e17250ae2c50",
   "metadata": {},
   "outputs": [
    {
     "data": {
      "text/plain": [
       "a    6\n",
       "b    4\n",
       "d    7\n",
       "dtype: int64"
      ]
     },
     "execution_count": 15,
     "metadata": {},
     "output_type": "execute_result"
    }
   ],
   "source": [
    "obj2[obj2>2]"
   ]
  },
  {
   "cell_type": "code",
   "execution_count": 17,
   "id": "08c97097-4311-4b69-ae38-494c9973fe57",
   "metadata": {},
   "outputs": [
    {
     "data": {
      "text/plain": [
       "c    2\n",
       "dtype: int64"
      ]
     },
     "execution_count": 17,
     "metadata": {},
     "output_type": "execute_result"
    }
   ],
   "source": [
    "obj2[obj2<3]"
   ]
  },
  {
   "cell_type": "code",
   "execution_count": 19,
   "id": "a8cd425d-827c-443a-b008-78fd3e39090a",
   "metadata": {},
   "outputs": [
    {
     "data": {
      "text/plain": [
       "a    12\n",
       "b     8\n",
       "c     4\n",
       "d    14\n",
       "dtype: int64"
      ]
     },
     "execution_count": 19,
     "metadata": {},
     "output_type": "execute_result"
    }
   ],
   "source": [
    "obj2*2"
   ]
  },
  {
   "cell_type": "code",
   "execution_count": 20,
   "id": "84940bb4-c605-4f86-9449-f3ccdafa7e2d",
   "metadata": {},
   "outputs": [
    {
     "data": {
      "text/plain": [
       "a     403.428793\n",
       "b      54.598150\n",
       "c       7.389056\n",
       "d    1096.633158\n",
       "dtype: float64"
      ]
     },
     "execution_count": 20,
     "metadata": {},
     "output_type": "execute_result"
    }
   ],
   "source": [
    "np.exp(obj2)"
   ]
  },
  {
   "cell_type": "markdown",
   "id": "8e484dc5-748b-4075-a3c0-e40fb28ee611",
   "metadata": {},
   "source": [
    "### Lugʻatdan Series yaratish"
   ]
  },
  {
   "cell_type": "code",
   "execution_count": 24,
   "id": "1157acf7-11a7-46f0-8405-87ef155ef47d",
   "metadata": {},
   "outputs": [],
   "source": [
    "cars_dict = {\"Malibu\": 40000, \"Lacetti\": 20000, \"Toyota\": 45000, \"Mazda\": 52000, \"Honda\": 38000} "
   ]
  },
  {
   "cell_type": "code",
   "execution_count": 25,
   "id": "3036fad9-cf90-4259-a1b5-bd7351569101",
   "metadata": {},
   "outputs": [
    {
     "data": {
      "text/plain": [
       "dict"
      ]
     },
     "execution_count": 25,
     "metadata": {},
     "output_type": "execute_result"
    }
   ],
   "source": [
    "type(cars_dict)"
   ]
  },
  {
   "cell_type": "code",
   "execution_count": 26,
   "id": "c716f7a4-e444-4cbb-a251-492767d5297c",
   "metadata": {},
   "outputs": [
    {
     "data": {
      "text/plain": [
       "Malibu     40000\n",
       "Lacetti    20000\n",
       "Toyota     45000\n",
       "Mazda      52000\n",
       "Honda      38000\n",
       "dtype: int64"
      ]
     },
     "execution_count": 26,
     "metadata": {},
     "output_type": "execute_result"
    }
   ],
   "source": [
    "cars = Series(cars_dict)\n",
    "cars"
   ]
  },
  {
   "cell_type": "code",
   "execution_count": 29,
   "id": "41c61692-cb57-4c35-be91-3489afa3a808",
   "metadata": {},
   "outputs": [
    {
     "data": {
      "text/plain": [
       "(True, False)"
      ]
     },
     "execution_count": 29,
     "metadata": {},
     "output_type": "execute_result"
    }
   ],
   "source": [
    "\"Malibu\" in cars, \"BMW\" in cars"
   ]
  },
  {
   "cell_type": "code",
   "execution_count": 33,
   "id": "638c39c8-4132-4c84-93f0-b4379b1492ec",
   "metadata": {},
   "outputs": [],
   "source": [
    "models = ['Honda', 'Mazda', 'Lacetti', 'Jaguar', 'Malibu', 'Toyota', 'BMW']"
   ]
  },
  {
   "cell_type": "code",
   "execution_count": 34,
   "id": "f480e9d4-fabf-4ba7-a028-b50f10a98028",
   "metadata": {},
   "outputs": [
    {
     "data": {
      "text/plain": [
       "Honda      38000.0\n",
       "Mazda      52000.0\n",
       "Lacetti    20000.0\n",
       "Jaguar         NaN\n",
       "Malibu     40000.0\n",
       "Toyota     45000.0\n",
       "BMW            NaN\n",
       "dtype: float64"
      ]
     },
     "execution_count": 34,
     "metadata": {},
     "output_type": "execute_result"
    }
   ],
   "source": [
    "cars2 = Series(cars_dict, index=models)\n",
    "cars2"
   ]
  },
  {
   "cell_type": "markdown",
   "id": "edfb1fb4-ebb7-49ee-b597-901af82caeae",
   "metadata": {},
   "source": [
    "### Series metodlari\r\n"
   ]
  },
  {
   "cell_type": "code",
   "execution_count": 35,
   "id": "2c1e5eec-3b5e-49e9-b395-845abc000032",
   "metadata": {},
   "outputs": [
    {
     "data": {
      "text/plain": [
       "Honda      False\n",
       "Mazda      False\n",
       "Lacetti    False\n",
       "Jaguar      True\n",
       "Malibu     False\n",
       "Toyota     False\n",
       "BMW         True\n",
       "dtype: bool"
      ]
     },
     "execution_count": 35,
     "metadata": {},
     "output_type": "execute_result"
    }
   ],
   "source": [
    "# noma'lum qiymatlar \n",
    "cars2.isnull()"
   ]
  },
  {
   "cell_type": "code",
   "execution_count": 36,
   "id": "6b3b49b1-81e7-44f1-9b29-29868c5793ff",
   "metadata": {},
   "outputs": [
    {
     "data": {
      "text/plain": [
       "Honda       True\n",
       "Mazda       True\n",
       "Lacetti     True\n",
       "Jaguar     False\n",
       "Malibu      True\n",
       "Toyota      True\n",
       "BMW        False\n",
       "dtype: bool"
      ]
     },
     "execution_count": 36,
     "metadata": {},
     "output_type": "execute_result"
    }
   ],
   "source": [
    "cars2.notnull()"
   ]
  },
  {
   "cell_type": "code",
   "execution_count": 38,
   "id": "1ae32c75-bb29-4d55-8981-8599e8ab0044",
   "metadata": {},
   "outputs": [
    {
     "data": {
      "text/plain": [
       "BMW             NaN\n",
       "Honda       76000.0\n",
       "Jaguar          NaN\n",
       "Lacetti     40000.0\n",
       "Malibu      80000.0\n",
       "Mazda      104000.0\n",
       "Toyota      90000.0\n",
       "dtype: float64"
      ]
     },
     "execution_count": 38,
     "metadata": {},
     "output_type": "execute_result"
    }
   ],
   "source": [
    "cars + cars2"
   ]
  },
  {
   "cell_type": "code",
   "execution_count": 41,
   "id": "0ef9e4e4-13b5-41d3-92e6-e5b79d84e502",
   "metadata": {},
   "outputs": [],
   "source": [
    "cars2.name = \"Avtosalon\""
   ]
  },
  {
   "cell_type": "code",
   "execution_count": 44,
   "id": "4e92715f-0f0d-4362-8965-a226c2aaf479",
   "metadata": {},
   "outputs": [],
   "source": [
    "cars2.index.name = 'Modellar'"
   ]
  },
  {
   "cell_type": "code",
   "execution_count": 45,
   "id": "d80db89d-3b5d-4f08-8848-ad01d4f36735",
   "metadata": {},
   "outputs": [
    {
     "data": {
      "text/plain": [
       "Modellar\n",
       "Honda      38000.0\n",
       "Mazda      52000.0\n",
       "Lacetti    20000.0\n",
       "Jaguar         NaN\n",
       "Malibu     40000.0\n",
       "Toyota     45000.0\n",
       "BMW            NaN\n",
       "Name: Avtosalon, dtype: float64"
      ]
     },
     "execution_count": 45,
     "metadata": {},
     "output_type": "execute_result"
    }
   ],
   "source": [
    "cars2"
   ]
  },
  {
   "cell_type": "code",
   "execution_count": 53,
   "id": "7ef032ca-8f2d-4222-abfb-dd6b9c527d59",
   "metadata": {},
   "outputs": [],
   "source": [
    "s = Series()"
   ]
  },
  {
   "cell_type": "code",
   "execution_count": 54,
   "id": "39d698b4-a01b-422d-a9f6-6001252fb7ca",
   "metadata": {},
   "outputs": [
    {
     "data": {
      "text/plain": [
       "Series([], dtype: object)"
      ]
     },
     "execution_count": 54,
     "metadata": {},
     "output_type": "execute_result"
    }
   ],
   "source": [
    "s"
   ]
  },
  {
   "cell_type": "code",
   "execution_count": null,
   "id": "4fea2d4f-85d8-4e9c-8b34-c0eadee61c6d",
   "metadata": {},
   "outputs": [],
   "source": []
  },
  {
   "cell_type": "code",
   "execution_count": null,
   "id": "cd4d48b2-d2c7-4c86-87c8-c83d1e925ede",
   "metadata": {},
   "outputs": [],
   "source": []
  },
  {
   "cell_type": "code",
   "execution_count": null,
   "id": "ea142c09-580f-4a6a-80f8-3056212943a0",
   "metadata": {},
   "outputs": [],
   "source": []
  },
  {
   "cell_type": "code",
   "execution_count": null,
   "id": "1dbf1d81-b0e9-4212-81a9-fdb17cb11ed0",
   "metadata": {},
   "outputs": [],
   "source": []
  },
  {
   "cell_type": "code",
   "execution_count": null,
   "id": "0f00ceee-9f74-430c-8fde-2191f5d567a3",
   "metadata": {},
   "outputs": [],
   "source": []
  },
  {
   "cell_type": "code",
   "execution_count": null,
   "id": "2e0a9c07-e402-4537-85f9-e6ba8790d782",
   "metadata": {},
   "outputs": [],
   "source": []
  },
  {
   "cell_type": "code",
   "execution_count": null,
   "id": "2b135666-d1d0-4d8d-aa64-a51701861a52",
   "metadata": {},
   "outputs": [],
   "source": []
  }
 ],
 "metadata": {
  "kernelspec": {
   "display_name": "Python 3 (ipykernel)",
   "language": "python",
   "name": "python3"
  },
  "language_info": {
   "codemirror_mode": {
    "name": "ipython",
    "version": 3
   },
   "file_extension": ".py",
   "mimetype": "text/x-python",
   "name": "python",
   "nbconvert_exporter": "python",
   "pygments_lexer": "ipython3",
   "version": "3.11.5"
  }
 },
 "nbformat": 4,
 "nbformat_minor": 5
}
