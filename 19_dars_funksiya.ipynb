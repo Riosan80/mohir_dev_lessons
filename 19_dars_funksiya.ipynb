{
 "cells": [
  {
   "cell_type": "code",
   "execution_count": 16,
   "id": "f317eeaf",
   "metadata": {},
   "outputs": [
    {
     "name": "stdout",
     "output_type": "stream",
     "text": [
      "Assalom\n"
     ]
    }
   ],
   "source": [
    "def salom():\n",
    "    \"\"\"sodda funksiya\"\"\"\n",
    "    print (\"Assalom\")\n",
    "\n",
    "salom()"
   ]
  },
  {
   "cell_type": "code",
   "execution_count": 20,
   "id": "26c9a617",
   "metadata": {},
   "outputs": [
    {
     "name": "stdout",
     "output_type": "stream",
     "text": [
      "Assalom Rio\n"
     ]
    }
   ],
   "source": [
    "def salom_ber(ism):\n",
    "    \"\"\"sodda funksiya\"\"\"\n",
    "    print (f\"Assalom {ism.title()}\")\n",
    "\n",
    "salom_ber(\"rio\")"
   ]
  },
  {
   "cell_type": "code",
   "execution_count": 24,
   "id": "8d8f00be",
   "metadata": {},
   "outputs": [
    {
     "name": "stdout",
     "output_type": "stream",
     "text": [
      "sodda funksiya\n"
     ]
    }
   ],
   "source": [
    "print(salom_ber.__doc__)"
   ]
  },
  {
   "cell_type": "code",
   "execution_count": 25,
   "id": "83c80f49",
   "metadata": {},
   "outputs": [],
   "source": [
    "def yosh_hisobla(ism, yil):\n",
    "    \"\"\"yosi va tug'ilgan yilini hisoblash funksiyasi\"\"\"\n",
    "    print(f\"{ism.title()} {2024-yil} yoshda\")"
   ]
  },
  {
   "cell_type": "code",
   "execution_count": 27,
   "id": "551ee2b6",
   "metadata": {},
   "outputs": [
    {
     "name": "stdout",
     "output_type": "stream",
     "text": [
      "Vali 44 yoshda\n"
     ]
    }
   ],
   "source": [
    "yosh_hisobla(\"vali\", 1980)"
   ]
  },
  {
   "cell_type": "code",
   "execution_count": 29,
   "id": "2f136170",
   "metadata": {},
   "outputs": [
    {
     "name": "stdout",
     "output_type": "stream",
     "text": [
      "Hasan 34 yoshda\n"
     ]
    }
   ],
   "source": [
    "yosh_hisobla(ism=\"hasan\", yil=1990)"
   ]
  },
  {
   "cell_type": "code",
   "execution_count": 30,
   "id": "cfca3882",
   "metadata": {},
   "outputs": [
    {
     "name": "stdout",
     "output_type": "stream",
     "text": [
      "20 2 ga qoldiqsiz bo'linadi\n",
      "20 4 ga qoldiqsiz bo'linadi\n",
      "20 5 ga qoldiqsiz bo'linadi\n",
      "20 10 ga qoldiqsiz bo'linadi\n"
     ]
    }
   ],
   "source": [
    "# Foydalanuvchidan son qabul qilib, sonni 2, 3, 4 va 5 ga qoldiqsiz bo'linishini tekshiruvchi \n",
    "# funksiya yozing. \n",
    "# Natijalarni konsolga chiqaring (\"15 soni 3 ga qoldiqsiz bo'linadi\" ko'rinishida)\n",
    "def bolinish_alomatlari(son):\n",
    "    for n in range(2,11):\n",
    "        if not son%n:\n",
    "            print(f\"{son} {n} ga qoldiqsiz bo'linadi\")\n",
    "\n",
    "bolinish_alomatlari(20)"
   ]
  },
  {
   "cell_type": "code",
   "execution_count": 42,
   "id": "1a76db12",
   "metadata": {},
   "outputs": [],
   "source": [
    "# Range func ni yozish\n",
    "def oraliq (min, max, qadam = 1):\n",
    "    sonlar = []\n",
    "    while min<max:\n",
    "        sonlar.append(min)\n",
    "        min += qadam\n",
    "    return sonlar\n"
   ]
  },
  {
   "cell_type": "code",
   "execution_count": 44,
   "id": "679c1e43",
   "metadata": {},
   "outputs": [
    {
     "data": {
      "text/plain": [
       "[0, 2, 4, 6, 8]"
      ]
     },
     "execution_count": 44,
     "metadata": {},
     "output_type": "execute_result"
    }
   ],
   "source": [
    "oraliq(0,10,2)"
   ]
  },
  {
   "cell_type": "code",
   "execution_count": 46,
   "id": "05be4466",
   "metadata": {},
   "outputs": [
    {
     "data": {
      "text/plain": [
       "[3, 4, 5, 6]"
      ]
     },
     "execution_count": 46,
     "metadata": {},
     "output_type": "execute_result"
    }
   ],
   "source": [
    "oraliq(3, 7)"
   ]
  },
  {
   "cell_type": "code",
   "execution_count": 47,
   "id": "226ac359",
   "metadata": {},
   "outputs": [],
   "source": [
    "def bahola(ismlar):\n",
    "    baholar = {}\n",
    "    while ismlar:\n",
    "        ism = ismlar.pop()\n",
    "        baho = input(f\"Talaba {ism.title()} bahosini kiriting: \")\n",
    "        baholar[ism] = int(baho)\n",
    "    return baholar        "
   ]
  },
  {
   "cell_type": "code",
   "execution_count": 49,
   "id": "c62d23cd",
   "metadata": {},
   "outputs": [
    {
     "name": "stdout",
     "output_type": "stream",
     "text": [
      "Talaba Toshmat bahosini kiriting: 2\n",
      "Talaba Eshmat bahosini kiriting: 5\n",
      "Talaba Vali bahosini kiriting: 6\n",
      "Talaba Ali bahosini kiriting: 7\n"
     ]
    }
   ],
   "source": [
    "talabalar = [\"ali\", \"vali\", \"eshmat\", \"toshmat\"]\n",
    "baholar = bahola(talabalar[:])"
   ]
  },
  {
   "cell_type": "code",
   "execution_count": 51,
   "id": "202c3797",
   "metadata": {},
   "outputs": [
    {
     "data": {
      "text/plain": [
       "['ali', 'vali', 'eshmat', 'toshmat']"
      ]
     },
     "execution_count": 51,
     "metadata": {},
     "output_type": "execute_result"
    }
   ],
   "source": [
    "talabalar"
   ]
  },
  {
   "cell_type": "code",
   "execution_count": 52,
   "id": "890f3d89",
   "metadata": {},
   "outputs": [
    {
     "data": {
      "text/plain": [
       "{'toshmat': 2, 'eshmat': 5, 'vali': 6, 'ali': 7}"
      ]
     },
     "execution_count": 52,
     "metadata": {},
     "output_type": "execute_result"
    }
   ],
   "source": [
    "baholar"
   ]
  },
  {
   "cell_type": "markdown",
   "id": "8794f8d7",
   "metadata": {},
   "source": [
    "# *args va *kwargs"
   ]
  },
  {
   "cell_type": "code",
   "execution_count": 6,
   "id": "24bb5f49",
   "metadata": {},
   "outputs": [],
   "source": [
    "def summa(*sonlar): # istalgancha qiymat oladi\n",
    "    yigindi = 0\n",
    "    for son in sonlar:\n",
    "        yigindi+= son\n",
    "    return yigindi"
   ]
  },
  {
   "cell_type": "code",
   "execution_count": 9,
   "id": "13d02070",
   "metadata": {},
   "outputs": [
    {
     "data": {
      "text/plain": [
       "434"
      ]
     },
     "execution_count": 9,
     "metadata": {},
     "output_type": "execute_result"
    }
   ],
   "source": [
    "summa(50, 343, 4, 2,6,7,8,9,0,5)"
   ]
  },
  {
   "cell_type": "code",
   "execution_count": 5,
   "id": "60219ff5",
   "metadata": {},
   "outputs": [
    {
     "data": {
      "text/plain": [
       "17"
      ]
     },
     "execution_count": 5,
     "metadata": {},
     "output_type": "execute_result"
    }
   ],
   "source": [
    "summa(8,9)"
   ]
  },
  {
   "cell_type": "code",
   "execution_count": 10,
   "id": "7827f366",
   "metadata": {},
   "outputs": [],
   "source": [
    "# kwarg = key words arguments"
   ]
  },
  {
   "cell_type": "code",
   "execution_count": 2,
   "id": "9b342458",
   "metadata": {},
   "outputs": [],
   "source": [
    "def avto_info(kompaniya, model, rangi, korobka, yili, narhi=None):\n",
    "    \"\"\"Avtomobil haqidagi ma'lumotlarni lug'at ko'rinishida qaytaruvchi funksiya\"\"\"\n",
    "    avto = {'kompaniya':kompaniya,\n",
    "            'model':model,\n",
    "            'rang':rangi,\n",
    "            'korobka':korobka,\n",
    "            'yil':yili,\n",
    "            'narh':narhi}\n",
    "    return avto\n",
    "\n",
    "def avto_kirit():\n",
    "    \"\"\"Foydalanuvchiga avto_info funksiyasi yordamida bir nechta avtolar haqida ma'lumotlarni bitta ro'yxatga joylash imkonini beruvchi funksiya\"\"\"\n",
    "    avtolar=[] # salondagi avtolar uchun bo'sh ro'yxat\n",
    "    while True:\n",
    "        print(\"\\nQuyidagi ma'lumotlarni kiriting\",end='')\n",
    "        kompaniya=input(\"Ishlab chiqaruvchi: \")\n",
    "        model=input(\"Modeli: \")\n",
    "        rangi=input(\"Rangi: \")\n",
    "        korobka=input(\"Korobka: \")\n",
    "        yili=input(\"Ishlab chiqarilgan yili: \")\n",
    "        narhi=input(\"Narhi: \")    \n",
    "        #Foydalanuvchi kiritdan ma'lumotlardan avto_info yordamida \n",
    "        #lug'at shakllantirib, har bir lug'atni ro'yxatga qo'shamiz:\n",
    "        avtolar.append(avto_info(kompaniya, model, rangi, korobka, yili, narhi))    \n",
    "        # Yana avto qo'shish-qo'shmaslikni so'raymiz\n",
    "        javob = input(\"Yana avto qo'shasizmi? (yes/no): \")\n",
    "        if javob=='no':\n",
    "            break\n",
    "    return avtolar\n",
    "\n",
    "def info_print(avto_info):\n",
    "    \"\"\"Avtomobillar haqida ma'lumotlar saqlangan lug'atni konsolga chiqaruvchi funksiya\"\"\"\n",
    "    print(f\"{avto_info['rang'].title()} {avto_info['kompaniya'].upper()} \"\n",
    "          f\"{avto_info['model'].upper()}, {avto_info['korobka']} korobka, \"\n",
    "          f\"{avto_info['yil']}-yil, {avto_info['narh']}$\")"
   ]
  },
  {
   "cell_type": "code",
   "execution_count": 3,
   "id": "0e8c78be",
   "metadata": {},
   "outputs": [
    {
     "name": "stdout",
     "output_type": "stream",
     "text": [
      "\n",
      "Quyidagi ma'lumotlarni kiritingIshlab chiqaruvchi: gm\n",
      "Modeli: malibu\n",
      "Rangi: oq\n",
      "Korobka: avto\n",
      "Ishlab chiqarilgan yili: 2024\n",
      "Narhi: 40000\n",
      "Yana avto qo'shasizmi? (yes/no): no\n"
     ]
    },
    {
     "data": {
      "text/plain": [
       "[{'kompaniya': 'gm',\n",
       "  'model': 'malibu',\n",
       "  'rang': 'oq',\n",
       "  'korobka': 'avto',\n",
       "  'yil': '2024',\n",
       "  'narh': '40000'}]"
      ]
     },
     "execution_count": 3,
     "metadata": {},
     "output_type": "execute_result"
    }
   ],
   "source": [
    "avto_kirit()"
   ]
  },
  {
   "cell_type": "code",
   "execution_count": 7,
   "id": "d51f1cae",
   "metadata": {},
   "outputs": [],
   "source": [
    "import math"
   ]
  },
  {
   "cell_type": "code",
   "execution_count": 8,
   "id": "becd3086",
   "metadata": {},
   "outputs": [],
   "source": [
    "uzunlik = lambda pi, r : 2*pi*r"
   ]
  },
  {
   "cell_type": "code",
   "execution_count": 9,
   "id": "912efa7b",
   "metadata": {},
   "outputs": [
    {
     "data": {
      "text/plain": [
       "62.83185307179586"
      ]
     },
     "execution_count": 9,
     "metadata": {},
     "output_type": "execute_result"
    }
   ],
   "source": [
    "uzunlik(math.pi, 10)"
   ]
  },
  {
   "cell_type": "code",
   "execution_count": 10,
   "id": "64296326",
   "metadata": {},
   "outputs": [],
   "source": [
    "from math import sqrt"
   ]
  },
  {
   "cell_type": "code",
   "execution_count": 12,
   "id": "1ec5a040",
   "metadata": {},
   "outputs": [],
   "source": [
    "sonlar = range(11)"
   ]
  },
  {
   "cell_type": "code",
   "execution_count": 14,
   "id": "ef0d2c85",
   "metadata": {},
   "outputs": [],
   "source": [
    "ildiz = list(map(sqrt, sonlar))"
   ]
  },
  {
   "cell_type": "code",
   "execution_count": 18,
   "id": "8fb43149",
   "metadata": {},
   "outputs": [
    {
     "name": "stdout",
     "output_type": "stream",
     "text": [
      "0.0\n",
      "1.0\n",
      "1.4142135623730951\n",
      "1.7320508075688772\n",
      "2.0\n",
      "2.23606797749979\n",
      "2.449489742783178\n",
      "2.6457513110645907\n",
      "2.8284271247461903\n",
      "3.0\n",
      "3.1622776601683795\n"
     ]
    }
   ],
   "source": [
    "for i in ildiz:\n",
    "    print (i,)"
   ]
  },
  {
   "cell_type": "code",
   "execution_count": 19,
   "id": "e16b1c90",
   "metadata": {},
   "outputs": [
    {
     "data": {
      "text/plain": [
       "[0.0,\n",
       " 1.0,\n",
       " 1.4142135623730951,\n",
       " 1.7320508075688772,\n",
       " 2.0,\n",
       " 2.23606797749979,\n",
       " 2.449489742783178,\n",
       " 2.6457513110645907,\n",
       " 2.8284271247461903,\n",
       " 3.0,\n",
       " 3.1622776601683795]"
      ]
     },
     "execution_count": 19,
     "metadata": {},
     "output_type": "execute_result"
    }
   ],
   "source": [
    "ildiz\n"
   ]
  },
  {
   "cell_type": "code",
   "execution_count": null,
   "id": "0e00d502",
   "metadata": {},
   "outputs": [],
   "source": []
  },
  {
   "cell_type": "code",
   "execution_count": null,
   "id": "b0da8c13",
   "metadata": {},
   "outputs": [],
   "source": []
  },
  {
   "cell_type": "code",
   "execution_count": null,
   "id": "24940888",
   "metadata": {},
   "outputs": [],
   "source": []
  }
 ],
 "metadata": {
  "kernelspec": {
   "display_name": "Python 3 (ipykernel)",
   "language": "python",
   "name": "python3"
  },
  "language_info": {
   "codemirror_mode": {
    "name": "ipython",
    "version": 3
   },
   "file_extension": ".py",
   "mimetype": "text/x-python",
   "name": "python",
   "nbconvert_exporter": "python",
   "pygments_lexer": "ipython3",
   "version": "3.9.7"
  }
 },
 "nbformat": 4,
 "nbformat_minor": 5
}
