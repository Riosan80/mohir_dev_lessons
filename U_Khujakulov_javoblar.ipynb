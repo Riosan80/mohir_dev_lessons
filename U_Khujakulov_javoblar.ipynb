{
  "nbformat": 4,
  "nbformat_minor": 0,
  "metadata": {
    "colab": {
      "provenance": [],
      "authorship_tag": "ABX9TyPb+PmcrfFSri28UNKOTZuv",
      "include_colab_link": true
    },
    "kernelspec": {
      "name": "python3",
      "display_name": "Python 3"
    },
    "language_info": {
      "name": "python"
    }
  },
  "cells": [
    {
      "cell_type": "markdown",
      "metadata": {
        "id": "view-in-github",
        "colab_type": "text"
      },
      "source": [
        "<a href=\"https://colab.research.google.com/github/ulubeykhuja/mohir_dev_lessons/blob/main/U_Khujakulov_javoblar.ipynb\" target=\"_parent\"><img src=\"https://colab.research.google.com/assets/colab-badge.svg\" alt=\"Open In Colab\"/></a>"
      ]
    },
    {
      "cell_type": "markdown",
      "source": [
        "NumPy kutubxonasiga doir bilimlaringizni mustaxkamlash uchun mashqlar\n",
        "\n",
        "**Ulug'bek Xo'jaqulov **"
      ],
      "metadata": {
        "id": "5jlgI4DYgodL"
      }
    },
    {
      "cell_type": "code",
      "source": [
        "# 1. NumPy kutubxonasini np nomi ostida yuklang va numpy kutubxonasini chop eting.\n",
        "import numpy as np\n",
        "print(\"NumPy kutubxonasi:\", np)\n",
        "print(\"NumPy versiyasi:\", np.__version__)\n",
        "# NumPy konfiguratsiyasini ko'rsatish\n",
        "np.show_config()"
      ],
      "metadata": {
        "colab": {
          "base_uri": "https://localhost:8080/"
        },
        "collapsed": true,
        "id": "4CALrTxigrK8",
        "outputId": "4719082c-4337-4f46-ef81-8992847d1553"
      },
      "execution_count": 6,
      "outputs": [
        {
          "output_type": "stream",
          "name": "stdout",
          "text": [
            "NumPy kutubxonasi: <module 'numpy' from '/usr/local/lib/python3.10/dist-packages/numpy/__init__.py'>\n",
            "NumPy versiyasi: 1.26.4\n",
            "Build Dependencies:\n",
            "  blas:\n",
            "    detection method: pkgconfig\n",
            "    found: true\n",
            "    include directory: /usr/local/include\n",
            "    lib directory: /usr/local/lib\n",
            "    name: openblas64\n",
            "    openblas configuration: USE_64BITINT=1 DYNAMIC_ARCH=1 DYNAMIC_OLDER= NO_CBLAS=\n",
            "      NO_LAPACK= NO_LAPACKE= NO_AFFINITY=1 USE_OPENMP= HASWELL MAX_THREADS=2\n",
            "    pc file directory: /usr/local/lib/pkgconfig\n",
            "    version: 0.3.23.dev\n",
            "  lapack:\n",
            "    detection method: internal\n",
            "    found: true\n",
            "    include directory: unknown\n",
            "    lib directory: unknown\n",
            "    name: dep139863411681952\n",
            "    openblas configuration: unknown\n",
            "    pc file directory: unknown\n",
            "    version: 1.26.4\n",
            "Compilers:\n",
            "  c:\n",
            "    args: -fno-strict-aliasing\n",
            "    commands: cc\n",
            "    linker: ld.bfd\n",
            "    linker args: -Wl,--strip-debug, -fno-strict-aliasing\n",
            "    name: gcc\n",
            "    version: 10.2.1\n",
            "  c++:\n",
            "    commands: c++\n",
            "    linker: ld.bfd\n",
            "    linker args: -Wl,--strip-debug\n",
            "    name: gcc\n",
            "    version: 10.2.1\n",
            "  cython:\n",
            "    commands: cython\n",
            "    linker: cython\n",
            "    name: cython\n",
            "    version: 3.0.8\n",
            "Machine Information:\n",
            "  build:\n",
            "    cpu: x86_64\n",
            "    endian: little\n",
            "    family: x86_64\n",
            "    system: linux\n",
            "  host:\n",
            "    cpu: x86_64\n",
            "    endian: little\n",
            "    family: x86_64\n",
            "    system: linux\n",
            "Python Information:\n",
            "  path: /opt/python/cp310-cp310/bin/python\n",
            "  version: '3.10'\n",
            "SIMD Extensions:\n",
            "  baseline:\n",
            "  - SSE\n",
            "  - SSE2\n",
            "  - SSE3\n",
            "  found:\n",
            "  - SSSE3\n",
            "  - SSE41\n",
            "  - POPCNT\n",
            "  - SSE42\n",
            "  - AVX\n",
            "  - F16C\n",
            "  - FMA3\n",
            "  - AVX2\n",
            "  not found:\n",
            "  - AVX512F\n",
            "  - AVX512CD\n",
            "  - AVX512_KNL\n",
            "  - AVX512_KNM\n",
            "  - AVX512_SKX\n",
            "  - AVX512_CLX\n",
            "  - AVX512_CNL\n",
            "  - AVX512_ICL\n",
            "\n"
          ]
        }
      ]
    },
    {
      "cell_type": "code",
      "source": [
        "# 2. Raqamli qiymatlar ro'yxatini bir o'lchovli NumPy massiviga aylantiring!\n",
        "\n",
        "import numpy as np\n",
        "\n",
        "my_list = [1, 2, 3, 4, 5]\n",
        "my_array = np.array(my_list)\n",
        "my_array"
      ],
      "metadata": {
        "colab": {
          "base_uri": "https://localhost:8080/"
        },
        "id": "E21mXZXEhG1H",
        "outputId": "08e65de9-2d10-4310-bfef-c521c35a1454"
      },
      "execution_count": 7,
      "outputs": [
        {
          "output_type": "execute_result",
          "data": {
            "text/plain": [
              "array([1, 2, 3, 4, 5])"
            ]
          },
          "metadata": {},
          "execution_count": 7
        }
      ]
    },
    {
      "cell_type": "code",
      "source": [
        "# 3. Qiymatlari noldan iborat bo'lgan to'qqiz o'lchovli massiv yarating.\n",
        "zero_arr= np.zeros(9)\n",
        "zero_arr"
      ],
      "metadata": {
        "colab": {
          "base_uri": "https://localhost:8080/"
        },
        "id": "HQ44LAEAiCEk",
        "outputId": "b86449f4-c9d2-4f5e-a930-25bb29f5c7ec"
      },
      "execution_count": 50,
      "outputs": [
        {
          "output_type": "execute_result",
          "data": {
            "text/plain": [
              "array([0., 0., 0., 0., 0., 0., 0., 0., 0.])"
            ]
          },
          "metadata": {},
          "execution_count": 50
        }
      ]
    },
    {
      "cell_type": "code",
      "source": [
        "#  4. Massiv yarating va uning xotira hajmini toping.\n",
        "arr_1 = np.arange(1, 55, 5)\n",
        "print (f\"Massiv {arr_1}\")\n",
        "print (f\"Elementlar soni {np.size(arr_1)} ta\")\n",
        "print (f\"1 ta element hajmi {arr_1.itemsize} bayt\")"
      ],
      "metadata": {
        "colab": {
          "base_uri": "https://localhost:8080/"
        },
        "id": "QUiGVWwTijt1",
        "outputId": "86532bdb-0077-43e9-d1d8-250b01672114"
      },
      "execution_count": 44,
      "outputs": [
        {
          "output_type": "stream",
          "name": "stdout",
          "text": [
            "Massiv [ 1  6 11 16 21 26 31 36 41 46 51]\n",
            "Elementlar soni 11 ta\n",
            "1 ta element hajmi 8 bayt\n"
          ]
        }
      ]
    },
    {
      "cell_type": "code",
      "source": [
        "#  5. NumPy kutubxonasidagi add funksiyasi hujjatlarini buyruq satridan qanday olishi mumkin?\n",
        "help(np.add)"
      ],
      "metadata": {
        "colab": {
          "base_uri": "https://localhost:8080/"
        },
        "collapsed": true,
        "id": "AI6Rq42djChG",
        "outputId": "45c2c36c-4823-426f-d771-696fa3ce5ca3"
      },
      "execution_count": 48,
      "outputs": [
        {
          "output_type": "stream",
          "name": "stdout",
          "text": [
            "Help on ufunc:\n",
            "\n",
            "add = <ufunc 'add'>\n",
            "    add(x1, x2, /, out=None, *, where=True, casting='same_kind', order='K', dtype=None, subok=True[, signature, extobj])\n",
            "    \n",
            "    Add arguments element-wise.\n",
            "    \n",
            "    Parameters\n",
            "    ----------\n",
            "    x1, x2 : array_like\n",
            "        The arrays to be added.\n",
            "        If ``x1.shape != x2.shape``, they must be broadcastable to a common\n",
            "        shape (which becomes the shape of the output).\n",
            "    out : ndarray, None, or tuple of ndarray and None, optional\n",
            "        A location into which the result is stored. If provided, it must have\n",
            "        a shape that the inputs broadcast to. If not provided or None,\n",
            "        a freshly-allocated array is returned. A tuple (possible only as a\n",
            "        keyword argument) must have length equal to the number of outputs.\n",
            "    where : array_like, optional\n",
            "        This condition is broadcast over the input. At locations where the\n",
            "        condition is True, the `out` array will be set to the ufunc result.\n",
            "        Elsewhere, the `out` array will retain its original value.\n",
            "        Note that if an uninitialized `out` array is created via the default\n",
            "        ``out=None``, locations within it where the condition is False will\n",
            "        remain uninitialized.\n",
            "    **kwargs\n",
            "        For other keyword-only arguments, see the\n",
            "        :ref:`ufunc docs <ufuncs.kwargs>`.\n",
            "    \n",
            "    Returns\n",
            "    -------\n",
            "    add : ndarray or scalar\n",
            "        The sum of `x1` and `x2`, element-wise.\n",
            "        This is a scalar if both `x1` and `x2` are scalars.\n",
            "    \n",
            "    Notes\n",
            "    -----\n",
            "    Equivalent to `x1` + `x2` in terms of array broadcasting.\n",
            "    \n",
            "    Examples\n",
            "    --------\n",
            "    >>> np.add(1.0, 4.0)\n",
            "    5.0\n",
            "    >>> x1 = np.arange(9.0).reshape((3, 3))\n",
            "    >>> x2 = np.arange(3.0)\n",
            "    >>> np.add(x1, x2)\n",
            "    array([[  0.,   2.,   4.],\n",
            "           [  3.,   5.,   7.],\n",
            "           [  6.,   8.,  10.]])\n",
            "    \n",
            "    The ``+`` operator can be used as a shorthand for ``np.add`` on ndarrays.\n",
            "    \n",
            "    >>> x1 = np.arange(9.0).reshape((3, 3))\n",
            "    >>> x2 = np.arange(3.0)\n",
            "    >>> x1 + x2\n",
            "    array([[ 0.,  2.,  4.],\n",
            "           [ 3.,  5.,  7.],\n",
            "           [ 6.,  8., 10.]])\n",
            "\n"
          ]
        }
      ]
    },
    {
      "cell_type": "code",
      "source": [
        "# 6. Shunday vekor yaratingki u o'n ikki o'lchamda va qiymatlari noldan iborat bo'lsin,\n",
        "# lekin vektorning oltinchi qiymati 1 ga teng bo'lsin.\n",
        "\n",
        "vector = np.zeros(12)\n",
        "vector[5] = 1\n",
        "vector"
      ],
      "metadata": {
        "colab": {
          "base_uri": "https://localhost:8080/"
        },
        "id": "J1qMit80i5Ee",
        "outputId": "4d710fc6-6990-4cfb-b35c-fb0b28febe1e"
      },
      "execution_count": 49,
      "outputs": [
        {
          "output_type": "execute_result",
          "data": {
            "text/plain": [
              "array([0., 0., 0., 0., 0., 1., 0., 0., 0., 0., 0., 0.])"
            ]
          },
          "metadata": {},
          "execution_count": 49
        }
      ]
    },
    {
      "cell_type": "code",
      "source": [
        "#  7. Qiymatlari 20 dan 59 gacha bo'lgan vektor yarating.\n",
        "vector_1 = np.arange(20, 59, 1)\n",
        "vector_1"
      ],
      "metadata": {
        "colab": {
          "base_uri": "https://localhost:8080/"
        },
        "id": "ORLBin6wi4Bo",
        "outputId": "dec2c011-f059-4e45-a1b6-a696c53215bb"
      },
      "execution_count": 56,
      "outputs": [
        {
          "output_type": "execute_result",
          "data": {
            "text/plain": [
              "array([20, 21, 22, 23, 24, 25, 26, 27, 28, 29, 30, 31, 32, 33, 34, 35, 36,\n",
              "       37, 38, 39, 40, 41, 42, 43, 44, 45, 46, 47, 48, 49, 50, 51, 52, 53,\n",
              "       54, 55, 56, 57, 58])"
            ]
          },
          "metadata": {},
          "execution_count": 56
        }
      ]
    },
    {
      "cell_type": "code",
      "source": [
        "# 8. Vektor yarating va uni teskari o'zgartiring\n",
        "vector_2 = np.arange(10)\n",
        "reversed_vector = vector_2[::-1]\n",
        "print(\"Vektor:\", vector_2)\n",
        "print(\"Teskari vektor:\", reversed_vector)"
      ],
      "metadata": {
        "colab": {
          "base_uri": "https://localhost:8080/"
        },
        "id": "Wn3gsTd4iSik",
        "outputId": "c966e2bd-fec5-43a6-e196-8e10ec1d3a5e"
      },
      "execution_count": 55,
      "outputs": [
        {
          "output_type": "stream",
          "name": "stdout",
          "text": [
            "Vektor: [0 1 2 3 4 5 6 7 8 9]\n",
            "Teskari vektor: [9 8 7 6 5 4 3 2 1 0]\n"
          ]
        }
      ]
    },
    {
      "cell_type": "code",
      "source": [
        "# 9. 12 dan 20 gacha bo'lgan qiymatlarga ega 3x3 matritsa yarating.\n",
        "matx = np.arange(12, 21).reshape(3,3)\n",
        "print  (\"3x3 matrisa: \\n\",  matx)"
      ],
      "metadata": {
        "colab": {
          "base_uri": "https://localhost:8080/"
        },
        "id": "KwpVeqqMoH6N",
        "outputId": "bcdb6c53-8ebc-4a92-dbfe-e626c0338865"
      },
      "execution_count": 64,
      "outputs": [
        {
          "output_type": "stream",
          "name": "stdout",
          "text": [
            "3x3 matrisa: \n",
            " [[12 13 14]\n",
            " [15 16 17]\n",
            " [18 19 20]]\n"
          ]
        }
      ]
    },
    {
      "cell_type": "code",
      "source": [
        "# 10. Quyidagi matritsadan foydalanib nolga teng bo'lmagan elementlarning indekslarini toping. [3, 7, 0, 0, 9, 0]\n",
        "arr_2 = np.array([3, 7, 0, 0, 9, 0])\n",
        "non_zero = np.nonzero(arr_2)\n",
        "non_zero"
      ],
      "metadata": {
        "colab": {
          "base_uri": "https://localhost:8080/"
        },
        "id": "zUeDOgguoH9q",
        "outputId": "e45cf70e-30d4-42dd-d2c5-f3a17dfdbd7a"
      },
      "execution_count": 66,
      "outputs": [
        {
          "output_type": "execute_result",
          "data": {
            "text/plain": [
              "(array([0, 1, 4]),)"
            ]
          },
          "metadata": {},
          "execution_count": 66
        }
      ]
    },
    {
      "cell_type": "code",
      "source": [
        "# 11. Tasodifiy qiymatlar bilan 2x2x2 o'lchovidagi massiv yarating.\n",
        "arr_3 = np.random.rand(2,2,2)\n",
        "arr_3"
      ],
      "metadata": {
        "colab": {
          "base_uri": "https://localhost:8080/"
        },
        "id": "pDh3w3fVp0qQ",
        "outputId": "8459c2e4-603f-4dd4-a9a8-d156263479ee"
      },
      "execution_count": 75,
      "outputs": [
        {
          "output_type": "execute_result",
          "data": {
            "text/plain": [
              "array([[[0.31580909, 0.19509017],\n",
              "        [0.75105639, 0.55062824]],\n",
              "\n",
              "       [[0.86078098, 0.05914512],\n",
              "        [0.58315852, 0.98266765]]])"
            ]
          },
          "metadata": {},
          "execution_count": 75
        }
      ]
    },
    {
      "cell_type": "code",
      "source": [
        "# 12. Tasodifiy sonlardan tashkil topgan 9X9 o'lchamidagi massiv yarating. So'ng uning eng katta va eng kichik qiymatlarini toping\n",
        "arr_4 = np.random.rand(9,9)\n",
        "arr_4\n",
        "\n",
        "print (\"Massiv maksimumi: \", arr_4.max())\n",
        "print (\"Massiv minimumi: \",  arr_4.min())"
      ],
      "metadata": {
        "colab": {
          "base_uri": "https://localhost:8080/"
        },
        "id": "PUkgIBf2oIAu",
        "outputId": "e7e191f1-9bf5-41b8-bfae-21c3246d60ef"
      },
      "execution_count": 81,
      "outputs": [
        {
          "output_type": "stream",
          "name": "stdout",
          "text": [
            "Massiv maksimumi:  0.9990462674288261\n",
            "Massiv minimumi:  0.005765255443722084\n"
          ]
        }
      ]
    },
    {
      "cell_type": "code",
      "source": [
        "# 13. Quyidagi misol qanday natija beradi?\n",
        "0 * np.nan\n",
        "np.nan == np.nan\n",
        "np.inf > np.nan\n",
        "np.nan - np.nan\n",
        "np.nan in set([np.nan])\n",
        "0.7 == 7 * 0.1"
      ],
      "metadata": {
        "colab": {
          "base_uri": "https://localhost:8080/"
        },
        "id": "oX-z-ol6oIES",
        "outputId": "ac382f10-8819-48f8-b415-009c5cfdc7e8"
      },
      "execution_count": 82,
      "outputs": [
        {
          "output_type": "execute_result",
          "data": {
            "text/plain": [
              "False"
            ]
          },
          "metadata": {},
          "execution_count": 82
        }
      ]
    },
    {
      "cell_type": "code",
      "source": [
        "# 14. O'lchamlari 6x3 va 3x4 bo'lgan martitsa yarating, so'ng ularning ko'paytmasini hisoblang.\n",
        "matrix_1 = np.random.rand(6, 3)\n",
        "matrix_2 = np.random.rand(3, 4)\n",
        "\n",
        "product_matrix = np.dot(matrix_1, matrix_2)\n",
        "\n",
        "print(\"Birinchi matritsa:\\n\", matrix_1)\n",
        "print(\"Ikkinchi matritsa:\\n\", matrix_2)\n",
        "print(\"Ko'paytma matritsasi:\\n\", product_matrix)"
      ],
      "metadata": {
        "colab": {
          "base_uri": "https://localhost:8080/"
        },
        "id": "qeMmcpnGsLn2",
        "outputId": "e5178759-9126-40dd-c787-4c83279ec266"
      },
      "execution_count": 83,
      "outputs": [
        {
          "output_type": "stream",
          "name": "stdout",
          "text": [
            "Birinchi matritsa:\n",
            " [[0.38282828 0.99721654 0.42153574]\n",
            " [0.81873924 0.10063854 0.97185117]\n",
            " [0.376534   0.58580667 0.06707176]\n",
            " [0.94617914 0.44122546 0.38742052]\n",
            " [0.43020723 0.1695526  0.19769386]\n",
            " [0.94899763 0.24268307 0.03335773]]\n",
            "Ikkinchi matritsa:\n",
            " [[0.15381014 0.51734793 0.93716501 0.53573627]\n",
            " [0.3696135  0.67946528 0.10721979 0.99637684]\n",
            " [0.90794877 0.80182599 0.35448945 0.91906968]]\n",
            "Ko'paytma matritsasi:\n",
            " [[0.81020043 1.21362774 0.61512459 1.58611918]\n",
            " [1.04551884 1.27120897 1.1225952  1.43210115]\n",
            " [0.33533452 0.64661426 0.43946079 0.84705074]\n",
            " [0.66037282 1.09994505 1.07137057 1.30259577]\n",
            " [0.30833506 0.496288   0.49143494 0.58111033]\n",
            " [0.26595151 0.68260378 0.92721276 0.78087432]]\n"
          ]
        }
      ]
    },
    {
      "cell_type": "code",
      "source": [
        "# 15. Quyidagi misol qanday natija beradi?\n",
        "print(sum(range(5),-1))\n",
        "from numpy import *\n",
        "print(sum(range(5),-1))"
      ],
      "metadata": {
        "colab": {
          "base_uri": "https://localhost:8080/"
        },
        "id": "HcGnCoG-sLrS",
        "outputId": "a9d33acc-789b-4576-b56a-205feb434660"
      },
      "execution_count": 84,
      "outputs": [
        {
          "output_type": "stream",
          "name": "stdout",
          "text": [
            "9\n",
            "10\n"
          ]
        }
      ]
    },
    {
      "cell_type": "code",
      "source": [
        "# 16. NumPy kutubxonasi yordamida ikkita massivni solishtiring va ular usida quyidagi amallarni bajaring.\n",
        "array_a = np.array([1, 2])\n",
        "array_b = np.array([4, 5])\n",
        "\n",
        "print(\"a > b:\", array_a > array_b)\n",
        "print(\"a >= b:\", array_a >= array_b)\n",
        "print(\"a < b:\", array_a < array_b)\n",
        "print(\"a <= b:\", array_a <= array_b)\n"
      ],
      "metadata": {
        "colab": {
          "base_uri": "https://localhost:8080/"
        },
        "id": "l6_ueL1GsLub",
        "outputId": "3a2bf1c5-01f4-47c0-fe06-a3e262f88395"
      },
      "execution_count": 85,
      "outputs": [
        {
          "output_type": "stream",
          "name": "stdout",
          "text": [
            "a > b: [False False]\n",
            "a >= b: [False False]\n",
            "a < b: [ True  True]\n",
            "a <= b: [ True  True]\n"
          ]
        }
      ]
    },
    {
      "cell_type": "code",
      "source": [
        "# 17. Quyidagi misol qanday natija beradi?\n",
        "np.array(0) / np.array(0)\n",
        "np.array(0) // np.array(0)\n",
        "np.array([np.nan]).astype(int).astype(float)"
      ],
      "metadata": {
        "colab": {
          "base_uri": "https://localhost:8080/"
        },
        "id": "i56iPjwtsLxT",
        "outputId": "2be19227-c895-44fd-f25f-413c34397576"
      },
      "execution_count": 86,
      "outputs": [
        {
          "output_type": "stream",
          "name": "stderr",
          "text": [
            "<ipython-input-86-8095f4dba212>:2: RuntimeWarning: invalid value encountered in divide\n",
            "  np.array(0) / np.array(0)\n",
            "<ipython-input-86-8095f4dba212>:3: RuntimeWarning: divide by zero encountered in floor_divide\n",
            "  np.array(0) // np.array(0)\n",
            "<ipython-input-86-8095f4dba212>:4: RuntimeWarning: invalid value encountered in cast\n",
            "  np.array([np.nan]).astype(int).astype(float)\n"
          ]
        },
        {
          "output_type": "execute_result",
          "data": {
            "text/plain": [
              "array([-9.22337204e+18])"
            ]
          },
          "metadata": {},
          "execution_count": 86
        }
      ]
    },
    {
      "cell_type": "code",
      "source": [
        "# 18. Ikkita massiv yarating va ular orasidagi umumiy qiymatlarni toping\n",
        "array1 = np.array([1, 2, 3, 4, 5])\n",
        "array2 = np.array([3, 5, 6, 7, 8])\n",
        "\n",
        "common_values = np.intersect1d(array1, array2)\n",
        "\n",
        "print(\"Birinchi massiv:\", array1)\n",
        "print(\"Ikkinchi massiv:\", array2)\n",
        "print(\"Umumiy qiymatlar:\", common_values)"
      ],
      "metadata": {
        "colab": {
          "base_uri": "https://localhost:8080/"
        },
        "id": "95fsKb3moINs",
        "outputId": "44fabc3f-d28e-41e4-cc30-7b53272d832a"
      },
      "execution_count": 87,
      "outputs": [
        {
          "output_type": "stream",
          "name": "stdout",
          "text": [
            "Birinchi massiv: [1 2 3 4 5]\n",
            "Ikkinchi massiv: [3 5 6 7 8]\n",
            "Umumiy qiymatlar: [3 5]\n"
          ]
        }
      ]
    },
    {
      "cell_type": "code",
      "source": [
        "# 19. Tasodifiy sonlardan iborat bo'lgan massiv yarating, so'ng ularni quyida berilgan 4 xil usul yordamida musbat sonlarning butun qismini ajratib oling.\n",
        "random_array = np.random.uniform(-10, 10, 10)  # -10 dan 10 gacha 10 ta tasodifiy son\n",
        "\n",
        "print(\"Dastlabki massiv:\", random_array)\n",
        "\n",
        "# 1. Modulus operatori (%)\n",
        "integer_part_modulus = random_array % 1\n",
        "print(\"Modulus operatori:\", integer_part_modulus)\n",
        "\n",
        "# 2. np.floor()\n",
        "integer_part_floor = np.floor(random_array)\n",
        "print(\"np.floor():\", integer_part_floor)\n",
        "\n",
        "# 3. astype()\n",
        "integer_part_astype = random_array.astype(int)\n",
        "print(\"astype(int):\", integer_part_astype)\n",
        "\n",
        "# 4. np.trunc()\n",
        "integer_part_trunc = np.trunc(random_array)\n",
        "print(\"np.trunc():\", integer_part_trunc)"
      ],
      "metadata": {
        "colab": {
          "base_uri": "https://localhost:8080/"
        },
        "id": "jOAiz-1ioEeA",
        "outputId": "5970ec07-2ce0-403e-8ef5-9376878bf036"
      },
      "execution_count": 88,
      "outputs": [
        {
          "output_type": "stream",
          "name": "stdout",
          "text": [
            "Dastlabki massiv: [ 5.44969229 -2.32831133 -0.50998651  0.0828306   7.77311526 -9.6402535\n",
            "  6.85704563  6.75885097 -5.18250964  2.19762394]\n",
            "Modulus operatori: [0.44969229 0.67168867 0.49001349 0.0828306  0.77311526 0.3597465\n",
            " 0.85704563 0.75885097 0.81749036 0.19762394]\n",
            "np.floor(): [  5.  -3.  -1.   0.   7. -10.   6.   6.  -6.   2.]\n",
            "astype(int): [ 5 -2  0  0  7 -9  6  6 -5  2]\n",
            "np.trunc(): [ 5. -2. -0.  0.  7. -9.  6.  6. -5.  2.]\n"
          ]
        }
      ]
    },
    {
      "cell_type": "code",
      "source": [
        "# 20. O'lchovlari 3x3 matritsa yarating, ularning qator qiymatlari 0 dan 2 gacha bo'lsin.\n",
        "\n",
        "matrix = np.zeros((3, 3))\n",
        "for i in range(3):\n",
        "    matrix[i] = i\n",
        "matrix"
      ],
      "metadata": {
        "colab": {
          "base_uri": "https://localhost:8080/"
        },
        "id": "pingu7cauEZK",
        "outputId": "7373b310-5ccd-41db-e1ad-67d95b9c23b0"
      },
      "execution_count": 90,
      "outputs": [
        {
          "output_type": "execute_result",
          "data": {
            "text/plain": [
              "array([[0., 0., 0.],\n",
              "       [1., 1., 1.],\n",
              "       [2., 2., 2.]])"
            ]
          },
          "metadata": {},
          "execution_count": 90
        }
      ]
    },
    {
      "cell_type": "code",
      "source": [
        "# 21. O'chamlari 10 bo'lgan tasodifiy vektor yarating va uni o'sish tartibida chiqaruvchi dastur tuzing\n",
        "random_vector = np.random.rand(10)\n",
        "sorted_vector = np.sort(random_vector)\n",
        "\n",
        "print(\"Tasodifiy vektor:\", random_vector)\n",
        "print(\"O'sish tartibida saralangan vektor:\", sorted_vector)"
      ],
      "metadata": {
        "colab": {
          "base_uri": "https://localhost:8080/"
        },
        "id": "wCZ3Z2mWuEcK",
        "outputId": "914ca24b-8311-4b43-bfc3-e6b3898a8acd"
      },
      "execution_count": 91,
      "outputs": [
        {
          "output_type": "stream",
          "name": "stdout",
          "text": [
            "Tasodifiy vektor: [0.83805714 0.82900113 0.00372942 0.54515951 0.864565   0.09537963\n",
            " 0.29510736 0.33208642 0.96433165 0.17079089]\n",
            "O'sish tartibida saralangan vektor: [0.00372942 0.09537963 0.17079089 0.29510736 0.33208642 0.54515951\n",
            " 0.82900113 0.83805714 0.864565   0.96433165]\n"
          ]
        }
      ]
    },
    {
      "cell_type": "code",
      "source": [
        "# 22. Ikki tasodifiy A va B massiv yarating, ularning tengligini tekshiring\n",
        "A = np.random.rand(5)  # 5 ta tasodifiy elementdan iborat massiv\n",
        "B = np.random.rand(5)\n",
        "\n",
        "print(\"A massivi:\", A)\n",
        "print(\"B massivi:\", B)\n",
        "\n",
        "# Massivlarning tengligini np.allclose() bilan tekshirish\n",
        "are_close = np.allclose(A, B)\n",
        "print(f\"Massivlar np.allclose() bo'yicha tengmi? {are_close}\")\n",
        "\n",
        "# Massivlarning tengligini np.array_equal() bilan tekshirish\n",
        "are_equal = np.array_equal(A, B)\n",
        "print(f\"Massivlar np.array_equal() bo'yicha tengmi? {are_equal}\")"
      ],
      "metadata": {
        "colab": {
          "base_uri": "https://localhost:8080/"
        },
        "id": "S2ukSQLauEiN",
        "outputId": "5b618693-7f4f-47b7-8a4c-d84c419078fe"
      },
      "execution_count": 92,
      "outputs": [
        {
          "output_type": "stream",
          "name": "stdout",
          "text": [
            "A massivi: [0.44997838 0.51882851 0.91208686 0.24045984 0.21624419]\n",
            "B massivi: [0.7199508  0.87670895 0.01746441 0.25590721 0.53090391]\n",
            "Massivlar np.allclose() bo'yicha tengmi? False\n",
            "Massivlar np.array_equal() bo'yicha tengmi? False\n"
          ]
        }
      ]
    },
    {
      "cell_type": "code",
      "source": [
        "# 23. O'lchamlari 6x3 va 3x4 matritsa tuzing va ularni o'zaro ko'paytiring.\n",
        "matrix_1 = np.random.rand(6, 3)\n",
        "matrix_2 = np.random.rand(3, 4)\n",
        "\n",
        "mult = np.dot(matrix_1, matrix_2)\n",
        "\n",
        "print(\"Birinchi matritsa:\\n\", matrix_1)\n",
        "print(\"Ikkinchi matritsa:\\n\", matrix_2)\n",
        "print(\"Ko'paytma matritsasi:\\n\", mult)"
      ],
      "metadata": {
        "colab": {
          "base_uri": "https://localhost:8080/"
        },
        "id": "F_JJUKSguEly",
        "outputId": "5dba4154-4d7e-44c4-fe23-a7bc22a40637"
      },
      "execution_count": 93,
      "outputs": [
        {
          "output_type": "stream",
          "name": "stdout",
          "text": [
            "Birinchi matritsa:\n",
            " [[0.47712393 0.64413381 0.00337205]\n",
            " [0.17765292 0.81761764 0.19464032]\n",
            " [0.61262131 0.23511844 0.74668099]\n",
            " [0.16679778 0.88533054 0.11190254]\n",
            " [0.02327384 0.96734277 0.48671791]\n",
            " [0.07410909 0.89683942 0.83282046]]\n",
            "Ikkinchi matritsa:\n",
            " [[0.2195247  0.71417163 0.46337551 0.7441289 ]\n",
            " [0.83289588 0.19494782 0.07890953 0.52265066]\n",
            " [0.23993522 0.52223296 0.56244835 0.98827143]]\n",
            "Ko'paytma matritsasi:\n",
            " [[0.64204596 0.46808186 0.27381245 0.69503118]\n",
            " [0.76669063 0.38791505 0.25631296 0.75188255]\n",
            " [0.50946975 0.87329401 0.72239629 1.31667752]\n",
            " [0.80085375 0.3501547  0.21009042 0.69742772]\n",
            " [0.92758575 0.45938302 0.36087077 1.00391048]\n",
            " [0.96306559 0.66268979 0.57352801 1.3469331 ]]\n"
          ]
        }
      ]
    },
    {
      "cell_type": "code",
      "source": [
        "# 24. Tasodifiy sonlardan iborat bo'lgan o'lchami 5 ga teng vektor yarating, so'ng uning eng katta qiymatini 0 ga o'zgartiring\n",
        "vector = np.random.rand(5)\n",
        "print(\"Original vector:\", vector)\n",
        "\n",
        "max_index = np.argmax(vector)\n",
        "vector[max_index] = 0\n",
        "\n",
        "print(\"O'zgargan vector:\", vector)"
      ],
      "metadata": {
        "colab": {
          "base_uri": "https://localhost:8080/"
        },
        "id": "KZzWu-U1vcCZ",
        "outputId": "14d0b253-388c-4912-b826-99960353b251"
      },
      "execution_count": 95,
      "outputs": [
        {
          "output_type": "stream",
          "name": "stdout",
          "text": [
            "Original vector: [0.89035718 0.08370194 0.56356778 0.77287425 0.93622918]\n",
            "O'zgargan vector: [0.89035718 0.08370194 0.56356778 0.77287425 0.        ]\n"
          ]
        }
      ]
    },
    {
      "cell_type": "code",
      "source": [
        "# 25. NumPy kutubxonasi yordamida kecha, bugun va ertangi kun sanalarini aniqlang.\n",
        "bugun = np.datetime64('today')\n",
        "kecha = bugun - np.timedelta64(1, 'D')\n",
        "ertaga = bugun + np.timedelta64(1, 'D')\n",
        "\n",
        "print(\"Kecha:\", kecha)\n",
        "print(\"Bugun:\", bugun)\n",
        "print(\"Ertaga:\", ertaga)"
      ],
      "metadata": {
        "colab": {
          "base_uri": "https://localhost:8080/"
        },
        "id": "Hm_8kF9ivcLx",
        "outputId": "a46630c5-b800-417c-bc91-341016bef189"
      },
      "execution_count": 98,
      "outputs": [
        {
          "output_type": "stream",
          "name": "stdout",
          "text": [
            "Kecha: 2024-12-27\n",
            "Bugun: 2024-12-28\n",
            "Ertaga: 2024-12-29\n"
          ]
        }
      ]
    },
    {
      "cell_type": "code",
      "source": [
        "# 26. 2016 yil yanvar oyiga to'g'ri keladigan barcha sanalarni NumPy kutubxonasi yordamida aniqlang.\n",
        "\n",
        "start_date = np.datetime64('2016-01-01')\n",
        "end_date = np.datetime64('2016-02-01')\n",
        "\n",
        "dates = np.arange(start_date, end_date, dtype='datetime64[D]')\n",
        "\n",
        "dates"
      ],
      "metadata": {
        "colab": {
          "base_uri": "https://localhost:8080/"
        },
        "id": "P-k4q9GFvcPB",
        "outputId": "1524c77c-d9a7-446c-ac38-e5c4aad986ec"
      },
      "execution_count": 99,
      "outputs": [
        {
          "output_type": "execute_result",
          "data": {
            "text/plain": [
              "array(['2016-01-01', '2016-01-02', '2016-01-03', '2016-01-04',\n",
              "       '2016-01-05', '2016-01-06', '2016-01-07', '2016-01-08',\n",
              "       '2016-01-09', '2016-01-10', '2016-01-11', '2016-01-12',\n",
              "       '2016-01-13', '2016-01-14', '2016-01-15', '2016-01-16',\n",
              "       '2016-01-17', '2016-01-18', '2016-01-19', '2016-01-20',\n",
              "       '2016-01-21', '2016-01-22', '2016-01-23', '2016-01-24',\n",
              "       '2016-01-25', '2016-01-26', '2016-01-27', '2016-01-28',\n",
              "       '2016-01-29', '2016-01-30', '2016-01-31'], dtype='datetime64[D]')"
            ]
          },
          "metadata": {},
          "execution_count": 99
        }
      ]
    },
    {
      "cell_type": "code",
      "source": [
        "# 27. 4 xil usul yordamida musbat sonlarning tasodifiy massivining butun son qismini ajratib oling.\n",
        "# 1. Modulus operatori (%)\n",
        "integer_part_modulus = random_array % 1\n",
        "print(\"Modulus operatori:\", integer_part_modulus)\n",
        "\n",
        "# 2. np.floor()\n",
        "integer_part_floor = np.floor(random_array)\n",
        "print(\"np.floor():\", integer_part_floor)\n",
        "\n",
        "# 3. astype()\n",
        "integer_part_astype = random_array.astype(int)\n",
        "print(\"astype(int):\", integer_part_astype)\n",
        "\n",
        "# 4. np.trunc()\n",
        "integer_part_trunc = np.trunc(random_array)\n",
        "print(\"np.trunc():\", integer_part_trunc)"
      ],
      "metadata": {
        "colab": {
          "base_uri": "https://localhost:8080/"
        },
        "id": "BnMLdXfCwQv7",
        "outputId": "e854b841-a4f1-4881-d3b5-bf4c8e9f1138"
      },
      "execution_count": 100,
      "outputs": [
        {
          "output_type": "stream",
          "name": "stdout",
          "text": [
            "Modulus operatori: [0.44969229 0.67168867 0.49001349 0.0828306  0.77311526 0.3597465\n",
            " 0.85704563 0.75885097 0.81749036 0.19762394]\n",
            "np.floor(): [  5.  -3.  -1.   0.   7. -10.   6.   6.  -6.   2.]\n",
            "astype(int): [ 5 -2  0  0  7 -9  6  6 -5  2]\n",
            "np.trunc(): [ 5. -2. -0.  0.  7. -9.  6.  6. -5.  2.]\n"
          ]
        }
      ]
    },
    {
      "cell_type": "code",
      "source": [
        "# 28. Ixtiyoriy kichik massivlar yarating, ular yeg'indisini np.sum funksiyasidanda tezroq hisoblovchi dastur tuzing.\n",
        "a = np.random.rand(5)\n",
        "b = np.random.rand(5)\n",
        "c = np.random.rand(5)\n",
        "\n",
        "# np.add.reduce bilan yig'indini\n",
        "sum_fast = np.add.reduce([a, b, c])\n",
        "\n",
        "# np.sum bilan yig'indini\n",
        "sum_slow = np.sum([a,b,c])\n",
        "\n",
        "\n",
        "print(\"np.add.reduce yordamida yig'indi:\", sum_fast)\n",
        "print(\"np.sum yordamida yig'indi:\", sum_slow)"
      ],
      "metadata": {
        "colab": {
          "base_uri": "https://localhost:8080/"
        },
        "id": "fAXBwH7swQzb",
        "outputId": "6212816d-28b7-4045-ee78-fc196eacf43e"
      },
      "execution_count": 101,
      "outputs": [
        {
          "output_type": "stream",
          "name": "stdout",
          "text": [
            "np.add.reduce yordamida yig'indi: [0.70538755 1.2420024  1.19686497 2.17343535 2.26539146]\n",
            "np.sum yordamida yig'indi: 7.58308172325598\n"
          ]
        }
      ]
    },
    {
      "cell_type": "code",
      "source": [
        "# 29. [1, 2, 3, 4, 5] vektor berilgan, har bir qiymat orasiga ketma-ket 3 ta nol raqamini yozuvchi dastur tuzing\n",
        "vector = np.array([1, 2, 3, 4, 5])\n",
        "zeros = np.zeros(len(vector) * 4 - 3, dtype=int)\n",
        "zeros[::4] = vector\n",
        "zeros"
      ],
      "metadata": {
        "colab": {
          "base_uri": "https://localhost:8080/"
        },
        "id": "ebVEvAPRwQ2_",
        "outputId": "e52722e9-9598-4e89-b7ee-4d6b9d326c6c"
      },
      "execution_count": 102,
      "outputs": [
        {
          "output_type": "execute_result",
          "data": {
            "text/plain": [
              "array([1, 0, 0, 0, 2, 0, 0, 0, 3, 0, 0, 0, 4, 0, 0, 0, 5])"
            ]
          },
          "metadata": {},
          "execution_count": 102
        }
      ]
    },
    {
      "cell_type": "code",
      "source": [
        "# 30. Quyidagi a massiv berilgan,\n",
        "# a = [1,2,3,4,5,6,7,8,9,10,11,12,13,14] undan foydalangan holda siz quyidagi\n",
        "# b massivni yarata olasizmi, b = [[1,2,3,4], [2,3,4,5], [3,4,5,6], ..., [11,12,13,14]]?\n",
        "from numpy.lib.stride_tricks import as_strided\n",
        "\n",
        "a = np.array([1, 2, 3, 4, 5, 6, 7, 8, 9, 10, 11, 12, 13, 14])\n",
        "b = as_strided(a, shape=(11, 4), strides=(a.itemsize, a.itemsize))\n",
        "b"
      ],
      "metadata": {
        "colab": {
          "base_uri": "https://localhost:8080/"
        },
        "id": "jN6MqTjHvcTY",
        "outputId": "4005c3e5-4ca2-47fd-d147-135b6ef4978a"
      },
      "execution_count": 104,
      "outputs": [
        {
          "output_type": "execute_result",
          "data": {
            "text/plain": [
              "array([[ 1,  2,  3,  4],\n",
              "       [ 2,  3,  4,  5],\n",
              "       [ 3,  4,  5,  6],\n",
              "       [ 4,  5,  6,  7],\n",
              "       [ 5,  6,  7,  8],\n",
              "       [ 6,  7,  8,  9],\n",
              "       [ 7,  8,  9, 10],\n",
              "       [ 8,  9, 10, 11],\n",
              "       [ 9, 10, 11, 12],\n",
              "       [10, 11, 12, 13],\n",
              "       [11, 12, 13, 14]])"
            ]
          },
          "metadata": {},
          "execution_count": 104
        }
      ]
    },
    {
      "cell_type": "code",
      "source": [
        "# 31. Ixtiyoriy sonlardan tashkil topgan massiv yarating, unga o'xshash qiymatlar kiriting. So'ng, o'xshash qiymatlarni topuvchi dastur tuzing.\n",
        "arr = np.array([1, 2, 2, 3, 4, 4, 4, 5, 1, 2])\n",
        "\n",
        "# O'xshash qiymatlarni topish\n",
        "unique_elements, counts = np.unique(arr, return_counts=True)\n",
        "\n",
        "print(\"Massiv:\", arr)\n",
        "print(\"unique elementlar:\", unique_elements)\n",
        "print(\"Har bir elementning soni:\", counts)\n",
        "\n",
        "# O'xshash qiymatlarni topishning boshqa usuli (faqat o'xshash qiymatlarni chiqaradi)\n",
        "duplicates = unique_elements[counts > 1]\n",
        "print(\"O'xshash elementlar:\", duplicates)"
      ],
      "metadata": {
        "colab": {
          "base_uri": "https://localhost:8080/"
        },
        "id": "-bFGiMhOvcbx",
        "outputId": "5a5b0873-b52e-4912-bd04-cd14e7e7143c"
      },
      "execution_count": 106,
      "outputs": [
        {
          "output_type": "stream",
          "name": "stdout",
          "text": [
            "Massiv: [1 2 2 3 4 4 4 5 1 2]\n",
            "unique elementlar: [1 2 3 4 5]\n",
            "Har bir elementning soni: [2 3 1 3 1]\n",
            "O'xshash elementlar: [1 2 4]\n"
          ]
        }
      ]
    },
    {
      "cell_type": "code",
      "source": [
        "# 32.  O'lchamlari 4x4 matritsa yarating, so'ng uning diagonal elementlarini 1 ga o'zgartiring.\n",
        "\n",
        "matrix = np.zeros((4, 4))\n",
        "np.fill_diagonal(matrix, 1)\n",
        "matrix"
      ],
      "metadata": {
        "colab": {
          "base_uri": "https://localhost:8080/"
        },
        "id": "0OMjslBsvchO",
        "outputId": "de2dd0d4-b19f-4898-cac5-f76102613638"
      },
      "execution_count": 107,
      "outputs": [
        {
          "output_type": "execute_result",
          "data": {
            "text/plain": [
              "array([[1., 0., 0., 0.],\n",
              "       [0., 1., 0., 0.],\n",
              "       [0., 0., 1., 0.],\n",
              "       [0., 0., 0., 1.]])"
            ]
          },
          "metadata": {},
          "execution_count": 107
        }
      ]
    }
  ]
}